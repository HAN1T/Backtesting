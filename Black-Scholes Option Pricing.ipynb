{
 "cells": [
  {
   "cell_type": "code",
   "execution_count": 1,
   "id": "38730ff2",
   "metadata": {},
   "outputs": [],
   "source": [
    "from BS_Options_Pricing import Option_Pricing"
   ]
  },
  {
   "cell_type": "code",
   "execution_count": 2,
   "id": "74dc0720",
   "metadata": {},
   "outputs": [
    {
     "data": {
      "text/plain": [
       "8.320550425712902"
      ]
     },
     "execution_count": 2,
     "metadata": {},
     "output_type": "execute_result"
    }
   ],
   "source": [
    "AAPL=Option_Pricing(\"AAPL\",15,0.04,0.75, start=\"2016-01-01\", end=\"2016-03-01\")\n",
    "AAPL.call_price()"
   ]
  },
  {
   "cell_type": "code",
   "execution_count": 3,
   "id": "64bdb860",
   "metadata": {},
   "outputs": [
    {
     "data": {
      "text/plain": [
       "0.16193233220768066"
      ]
     },
     "execution_count": 3,
     "metadata": {},
     "output_type": "execute_result"
    }
   ],
   "source": [
    "AAPL.put_price()"
   ]
  }
 ],
 "metadata": {
  "kernelspec": {
   "display_name": "Python 3",
   "language": "python",
   "name": "python3"
  },
  "language_info": {
   "codemirror_mode": {
    "name": "ipython",
    "version": 3
   },
   "file_extension": ".py",
   "mimetype": "text/x-python",
   "name": "python",
   "nbconvert_exporter": "python",
   "pygments_lexer": "ipython3",
   "version": "3.8.8"
  }
 },
 "nbformat": 4,
 "nbformat_minor": 5
}

