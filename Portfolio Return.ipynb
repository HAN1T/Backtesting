{
 "cells": [
  {
   "cell_type": "code",
   "execution_count": 1,
   "id": "4ca8709e",
   "metadata": {},
   "outputs": [],
   "source": [
    "from scipy import stats\n",
    "import pandas as pd\n",
    "import numpy as np\n",
    "import math as m\n",
    "import datetime as dt\n",
    "from pandas_datareader import data as pdr\n",
    "import yfinance as yf\n",
    "import numpy as np\n",
    "from scipy.stats import linregress\n",
    "import warnings\n",
    "import matplotlib.pyplot as plt\n",
    "warnings.filterwarnings(\"ignore\")"
   ]
  },
  {
   "cell_type": "code",
   "execution_count": 2,
   "id": "be07718e",
   "metadata": {},
   "outputs": [],
   "source": [
    "#Defining Function for Historical Data \n",
    "def Initialize(tickers,startyear,startmonth,startday,interval):\n",
    "    yf.pdr_override()\n",
    "    tickers=tickers\n",
    "    startyear=startyear\n",
    "    startmonth=startmonth\n",
    "    startday=startday\n",
    "    interval=interval\n",
    "    start=dt.datetime(startyear,startmonth,startday,)\n",
    "    now=dt.datetime(2020,7,1,)\n",
    "    df=pdr.get_data_yahoo(tickers,start,now, interval=interval,)\n",
    "    df.drop(['High', 'Low','Open','Close','Volume'], axis=1, inplace=True)\n",
    "    df.columns = df.columns.droplevel(0)\n",
    "    return df"
   ]
  },
  {
   "cell_type": "code",
   "execution_count": 3,
   "id": "489e1290",
   "metadata": {},
   "outputs": [
    {
     "name": "stdout",
     "output_type": "stream",
     "text": [
      "[*********************100%***********************]  505 of 505 completed\n",
      "\n",
      "5 Failed downloads:\n",
      "- BF.B: No data found for this date range, symbol may be delisted\n",
      "- LB: No data found, symbol may be delisted\n",
      "- ALXN: No data found, symbol may be delisted\n",
      "- BRK.B: No data found, symbol may be delisted\n",
      "- OGN: Data doesn't exist for startDate = 1530399600, endDate = 1593558000\n"
     ]
    }
   ],
   "source": [
    "#Creation of new Dataframe as per provided details\n",
    "df=Initialize(tickers=['MMM', 'ABT', 'ABBV', 'ABMD', 'ACN', 'ATVI', 'ADBE', 'AMD', 'AAP', 'AES', 'AFL', 'A', 'APD', 'AKAM', 'ALK', 'ALB', 'ARE', 'ALXN', 'ALGN', 'ALLE', 'LNT', 'ALL', 'GOOGL', 'GOOG', 'MO', 'AMZN', 'AMCR', 'AEE', 'AAL', 'AEP', 'AXP', 'AIG', 'AMT', 'AWK', 'AMP', 'ABC', 'AME', 'AMGN', 'APH', 'ADI', 'ANSS', 'ANTM', 'AON', 'AOS', 'APA', 'AAPL', 'AMAT', 'APTV', 'ADM', 'ANET', 'AJG', 'AIZ', 'T', 'ATO', 'ADSK', 'ADP', 'AZO', 'AVB', 'AVY', 'BKR', 'BLL', 'BAC', 'BK', 'BAX', 'BDX', 'BRK.B', 'BBY', 'BIO', 'BIIB', 'BLK', 'BA', 'BKNG', 'BWA', 'BXP', 'BSX', 'BMY', 'AVGO', 'BR', 'BF.B', 'CHRW', 'COG', 'CDNS', 'CZR', 'CPB', 'COF', 'CAH', 'KMX', 'CCL', 'CARR', 'CTLT', 'CAT', 'CBOE', 'CBRE', 'CDW', 'CE', 'CNC', 'CNP', 'CERN', 'CF', 'CRL', 'SCHW', 'CHTR', 'CVX', 'CMG', 'CB', 'CHD', 'CI', 'CINF', 'CTAS', 'CSCO', 'C', 'CFG', 'CTXS', 'CLX', 'CME', 'CMS', 'KO', 'CTSH', 'CL', 'CMCSA', 'CMA', 'CAG', 'COP', 'ED', 'STZ', 'COO', 'CPRT', 'GLW', 'CTVA', 'COST', 'CCI', 'CSX', 'CMI', 'CVS', 'DHI', 'DHR', 'DRI', 'DVA', 'DE', 'DAL', 'XRAY', 'DVN', 'DXCM', 'FANG', 'DLR', 'DFS', 'DISCA', 'DISCK', 'DISH', 'DG', 'DLTR', 'D', 'DPZ', 'DOV', 'DOW', 'DTE', 'DUK', 'DRE', 'DD', 'DXC', 'EMN', 'ETN', 'EBAY', 'ECL', 'EIX', 'EW', 'EA', 'EMR', 'ENPH', 'ETR', 'EOG', 'EFX', 'EQIX', 'EQR', 'ESS', 'EL', 'ETSY', 'EVRG', 'ES', 'RE', 'EXC', 'EXPE', 'EXPD', 'EXR', 'XOM', 'FFIV', 'FB', 'FAST', 'FRT', 'FDX', 'FIS', 'FITB', 'FE', 'FRC', 'FISV', 'FLT', 'FMC', 'F', 'FTNT', 'FTV', 'FBHS', 'FOXA', 'FOX', 'BEN', 'FCX', 'GPS', 'GRMN', 'IT', 'GNRC', 'GD', 'GE', 'GIS', 'GM', 'GPC', 'GILD', 'GL', 'GPN', 'GS', 'GWW', 'HAL', 'HBI', 'HIG', 'HAS', 'HCA', 'PEAK', 'HSIC', 'HSY', 'HES', 'HPE', 'HLT', 'HOLX', 'HD', 'HON', 'HRL', 'HST', 'HWM', 'HPQ', 'HUM', 'HBAN', 'HII', 'IEX', 'IDXX', 'INFO', 'ITW', 'ILMN', 'INCY', 'IR', 'INTC', 'ICE', 'IBM', 'IP', 'IPG', 'IFF', 'INTU', 'ISRG', 'IVZ', 'IPGP', 'IQV', 'IRM', 'JKHY', 'J', 'JBHT', 'SJM', 'JNJ', 'JCI', 'JPM', 'JNPR', 'KSU', 'K', 'KEY', 'KEYS', 'KMB', 'KIM', 'KMI', 'KLAC', 'KHC', 'KR', 'LB', 'LHX', 'LH', 'LRCX', 'LW', 'LVS', 'LEG', 'LDOS', 'LEN', 'LLY', 'LNC', 'LIN', 'LYV', 'LKQ', 'LMT', 'L', 'LOW', 'LUMN', 'LYB', 'MTB', 'MRO', 'MPC', 'MKTX', 'MAR', 'MMC', 'MLM', 'MAS', 'MA', 'MKC', 'MXIM', 'MCD', 'MCK', 'MDT', 'MRK', 'MET', 'MTD', 'MGM', 'MCHP', 'MU', 'MSFT', 'MAA', 'MHK', 'TAP', 'MDLZ', 'MPWR', 'MNST', 'MCO', 'MS', 'MOS', 'MSI', 'MSCI', 'NDAQ', 'NTAP', 'NFLX', 'NWL', 'NEM', 'NWSA', 'NWS', 'NEE', 'NLSN', 'NKE', 'NI', 'NSC', 'NTRS', 'NOC', 'NLOK', 'NCLH', 'NOV', 'NRG', 'NUE', 'NVDA', 'NVR', 'NXPI', 'ORLY', 'OXY', 'ODFL', 'OMC', 'OKE', 'ORCL', 'OGN', 'OTIS', 'PCAR', 'PKG', 'PH', 'PAYX', 'PAYC', 'PYPL', 'PENN', 'PNR', 'PBCT', 'PEP', 'PKI', 'PRGO', 'PFE', 'PM', 'PSX', 'PNW', 'PXD', 'PNC', 'POOL', 'PPG', 'PPL', 'PFG', 'PG', 'PGR', 'PLD', 'PRU', 'PTC', 'PEG', 'PSA', 'PHM', 'PVH', 'QRVO', 'PWR', 'QCOM', 'DGX', 'RL', 'RJF', 'RTX', 'O', 'REG', 'REGN', 'RF', 'RSG', 'RMD', 'RHI', 'ROK', 'ROL', 'ROP', 'ROST', 'RCL', 'SPGI', 'CRM', 'SBAC', 'SLB', 'STX', 'SEE', 'SRE', 'NOW', 'SHW', 'SPG', 'SWKS', 'SNA', 'SO', 'LUV', 'SWK', 'SBUX', 'STT', 'STE', 'SYK', 'SIVB', 'SYF', 'SNPS', 'SYY', 'TMUS', 'TROW', 'TTWO', 'TPR', 'TGT', 'TEL', 'TDY', 'TFX', 'TER', 'TSLA', 'TXN', 'TXT', 'TMO', 'TJX', 'TSCO', 'TT', 'TDG', 'TRV', 'TRMB', 'TFC', 'TWTR', 'TYL', 'TSN', 'UDR', 'ULTA', 'USB', 'UAA', 'UA', 'UNP', 'UAL', 'UNH', 'UPS', 'URI', 'UHS', 'UNM', 'VLO', 'VTR', 'VRSN', 'VRSK', 'VZ', 'VRTX', 'VFC', 'VIAC', 'VTRS', 'V', 'VNO', 'VMC', 'WRB', 'WAB', 'WMT', 'WBA', 'DIS', 'WM', 'WAT', 'WEC', 'WFC', 'WELL', 'WST', 'WDC', 'WU', 'WRK', 'WY', 'WHR', 'WMB', 'WLTW', 'WYNN', 'XEL', 'XLNX', 'XYL', 'YUM', 'ZBRA', 'ZBH', 'ZION', 'ZTS'],\n",
    "           startyear=2018,\n",
    "           startmonth=7,\n",
    "           startday=1,\n",
    "           interval=\"1d\")"
   ]
  },
  {
   "cell_type": "code",
   "execution_count": 4,
   "id": "9d4c7814",
   "metadata": {},
   "outputs": [
    {
     "name": "stdout",
     "output_type": "stream",
     "text": [
      "[*********************100%***********************]  1 of 1 completed\n"
     ]
    }
   ],
   "source": [
    "bm=pdr.get_data_yahoo(\"SPY\", start=\"2018-07-01\", end=\"2020-07-01\")\n",
    "#bm=pdr.get_data_yahoo(\"SPY\", start, now)\n",
    "\n",
    "\n",
    "BM=bm[['Adj Close']][-90:].copy()\n",
    "BM=BM.rename(columns={\"Adj Close\": \"Benchmark\"})\n",
    "BM=BM.pct_change()\n"
   ]
  },
  {
   "cell_type": "code",
   "execution_count": 5,
   "id": "b79d671f",
   "metadata": {},
   "outputs": [],
   "source": [
    "#Momentum over 90 days\n",
    "momen_calc_days_open = len(df.index) - 180\n",
    "momen_calc_days_close = len(df.index) - 90\n",
    "vola_window=20\n",
    "vola_close=-91\n",
    "def Calculate_Momentum(close_price):\n",
    "    log_price = np.log(close_price)[momen_calc_days_open:momen_calc_days_close]\n",
    "    x = np.arange(len(log_price))\n",
    "    slope, _, rvalue, _, _ = linregress(x, log_price)\n",
    "    Annual_Slope = m.exp(slope)**250-1 #Annualization of slope\n",
    "    Volatility = rvalue**2\n",
    "    Momentum_Score = Annual_Slope*Volatility\n",
    "    return Momentum_Score\n",
    "\n",
    "#Inverse Volatility over 20 days\n",
    "def Calculate_Inverse_Volatility(close_price):\n",
    "    volatility=close_price.pct_change().rolling(vola_window).std()[vola_close]\n",
    "    inv_volatility=1/volatility\n",
    "    return inv_volatility"
   ]
  },
  {
   "cell_type": "code",
   "execution_count": 6,
   "id": "81d47d43",
   "metadata": {},
   "outputs": [],
   "source": [
    "#Define new df with required columns\n",
    "df_Output = pd.DataFrame(columns=['Stock','LastPrice','MomentumScore','InverseVolatility',])"
   ]
  },
  {
   "cell_type": "code",
   "execution_count": 7,
   "id": "5676783e",
   "metadata": {},
   "outputs": [
    {
     "name": "stdout",
     "output_type": "stream",
     "text": [
      "    Stock   LastPrice  MomentumScore  InverseVolatility\n",
      "0    TSLA  166.757996      22.186358          13.704918\n",
      "1    ENPH   55.259998       5.602042           9.848058\n",
      "2     AMD   49.119999       3.899969          30.481754\n",
      "3    PENN   35.939999       3.171185          25.416844\n",
      "4    DXCM  294.049988       2.678804          29.753227\n",
      "..    ...         ...            ...                ...\n",
      "492   MPC   51.718338      -0.273513          39.705859\n",
      "493   PSX   80.157814      -0.307725          48.981715\n",
      "494   AAP  137.276703      -0.335323          40.149096\n",
      "495    DD   48.741096      -0.393290          40.067161\n",
      "496  DLTR   91.040001      -0.452565          89.888902\n",
      "\n",
      "[498 rows x 4 columns]\n"
     ]
    }
   ],
   "source": [
    "#For list of tickers calculating Momentum Score and Inverse_Volatility\n",
    "#then sorting by Descending\n",
    "tickers = np.array(df.columns)\n",
    "for ticker in tickers:\n",
    "    close_price = df[ticker]\n",
    "    Last_Price=df[ticker][momen_calc_days_close]\n",
    "    Momentum_Score = Calculate_Momentum(close_price)\n",
    "    Inverse_Volatility=Calculate_Inverse_Volatility(close_price)\n",
    "    df_Output = df_Output.append({'Stock': ticker,'LastPrice':Last_Price,'MomentumScore': Momentum_Score,'InverseVolatility' : Inverse_Volatility,}, ignore_index = True)\n",
    "    df_Output = df_Output.sort_values(by='MomentumScore',ascending = False)\n",
    "df_Output =df_Output.dropna()\n",
    "print(df_Output)"
   ]
  },
  {
   "cell_type": "code",
   "execution_count": 8,
   "id": "88e5af3b",
   "metadata": {},
   "outputs": [],
   "source": [
    "#Stock Pick or Stock Selection with Criteria MomentumScore>1\n",
    "#If more than Portfolio Size qualifies criteria then pick top 30 else \n",
    "#No. of stocks that qualifies\n",
    "Portfolio_Size=5\n",
    "Min_Momen_Score=1\n",
    "Momen_FilterCriteria = df_Output[df_Output.MomentumScore > Min_Momen_Score].copy()\n",
    "Stock_list=np.array(Momen_FilterCriteria)\n",
    "if len(Stock_list)>Portfolio_Size:\n",
    "    Stock_pick=Momen_FilterCriteria[0:Portfolio_Size]\n",
    "else:\n",
    "    Stock_pick=Momen_FilterCriteria"
   ]
  },
  {
   "cell_type": "code",
   "execution_count": 9,
   "id": "b48e0667",
   "metadata": {},
   "outputs": [
    {
     "name": "stdout",
     "output_type": "stream",
     "text": [
      "  Stock   LastPrice  MomentumScore  InverseVolatility  PercentAllocation  \\\n",
      "0  TSLA  166.757996      22.186358          13.704918               12.0   \n",
      "1  ENPH   55.259998       5.602042           9.848058                9.0   \n",
      "2   AMD   49.119999       3.899969          30.481754               27.0   \n",
      "3  PENN   35.939999       3.171185          25.416844               23.0   \n",
      "4  DXCM  294.049988       2.678804          29.753227               27.0   \n",
      "\n",
      "   PositionAllocation  \n",
      "0               719.0  \n",
      "1              1628.0  \n",
      "2              5496.0  \n",
      "3              6399.0  \n",
      "4               918.0  \n"
     ]
    }
   ],
   "source": [
    "#Calculation of Percent of Initial Investment to be allocated and \n",
    "#no. of shares as per the percent of Initial Investment\n",
    "Initial_Investment=1000000\n",
    "Sum_InverseVolatility=Stock_pick.InverseVolatility.sum().round(decimals=0)\n",
    "Stock_pick['PercentAllocation']=((Stock_pick.InverseVolatility/Sum_InverseVolatility)*100).apply(np.floor)\n",
    "Stock_pick['PositionAllocation']=((Stock_pick.PercentAllocation*Initial_Investment)/(100*Stock_pick.LastPrice)).apply(np.floor)\n",
    "print(Stock_pick)"
   ]
  },
  {
   "cell_type": "code",
   "execution_count": 10,
   "id": "c5d7a61e",
   "metadata": {},
   "outputs": [],
   "source": [
    "#Creation of Position Holding df\n",
    "Positiondf = Stock_pick[['Stock', 'PositionAllocation',]].copy()\n",
    "Positiondf=Positiondf.set_index('Stock').T\n",
    "\n",
    "#List of stocks in which investment made\n",
    "AllocatedStocks = np.array(Positiondf.columns)\n",
    "\n",
    "#Slicing df for only the investment stocks for invested duration\n",
    "Prices_selected_stock=df[AllocatedStocks][momen_calc_days_close:].copy()\n",
    "#Prices_selected_stock=df[AllocatedStocks].copy()"
   ]
  },
  {
   "cell_type": "code",
   "execution_count": 11,
   "id": "e128ec18",
   "metadata": {},
   "outputs": [],
   "source": [
    "#Creation of new df for Calculation of return\n",
    "df3 = pd.DataFrame(Prices_selected_stock.values*Positiondf.values, columns=Prices_selected_stock.columns, index=Prices_selected_stock.index)\n",
    "\n",
    "#Calculation of Return and Cash\n",
    "df3['Return'] = df3[AllocatedStocks].sum(axis=1)\n",
    "Cash=Initial_Investment-df3['Return'][0]\n",
    "df3['Return']=Cash+df3['Return']"
   ]
  },
  {
   "cell_type": "code",
   "execution_count": 12,
   "id": "4242a9bf",
   "metadata": {},
   "outputs": [
    {
     "data": {
      "image/png": "[encoded data removed]",
      "text/plain": [
       "<Figure size 432x288 with 1 Axes>"
      ]
     },
     "metadata": {
      "needs_background": "light"
     },
     "output_type": "display_data"
    },
    {
     "name": "stdout",
     "output_type": "stream",
     "text": [
      "              Return  Benchmark\n",
      "Date                           \n",
      "2020-02-24       NaN        NaN\n",
      "2020-02-25 -0.054516  -0.030302\n",
      "2020-02-26 -0.023860  -0.003678\n",
      "2020-02-27 -0.045549  -0.044912\n",
      "2020-02-28  0.008735  -0.004201\n",
      "...              ...        ...\n",
      "2020-06-24 -0.040482  -0.025509\n",
      "2020-06-25 -0.006939   0.010721\n",
      "2020-06-26 -0.032249  -0.023752\n",
      "2020-06-29  0.018912   0.014698\n",
      "2020-06-30  0.032189   0.012810\n",
      "\n",
      "[90 rows x 2 columns]\n"
     ]
    }
   ],
   "source": [
    "#Summary df to represent return chart against Benchmark\n",
    "PortfolioReturn=df3[['Return']].pct_change()\n",
    "PortfolioReturn['Benchmark']=BM.Benchmark\n",
    "\n",
    "#Plot a beautiful graph\n",
    "PortfolioReturn.plot(legend=True)\n",
    "plt.xlabel(\"Date\")\n",
    "plt.ylabel(\"Return\")\n",
    "plt.title(\"Portfolio Return\")\n",
    "plt.show()\n",
    "print(PortfolioReturn)"
   ]
  }
 ],
 "metadata": {
  "kernelspec": {
   "display_name": "Python 3",
   "language": "python",
   "name": "python3"
  },
  "language_info": {
   "codemirror_mode": {
    "name": "ipython",
    "version": 3
   },
   "file_extension": ".py",
   "mimetype": "text/x-python",
   "name": "python",
   "nbconvert_exporter": "python",
   "pygments_lexer": "ipython3",
   "version": "3.8.8"
  }
 },
 "nbformat": 4,
 "nbformat_minor": 5
}
