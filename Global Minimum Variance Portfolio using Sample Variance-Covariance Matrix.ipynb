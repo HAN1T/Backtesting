{
 "cells": [
  {
   "cell_type": "code",
   "execution_count": 1,
   "id": "fd4a9c2a",
   "metadata": {},
   "outputs": [],
   "source": [
    "import pandas as pd\n",
    "import numpy as np\n",
    "import math\n",
    "import datetime as dt\n",
    "from pandas_datareader import data as pdr\n",
    "import yfinance as yf\n",
    "import numpy as np\n",
    "import matplotlib.pyplot as plt\n",
    "import math"
   ]
  },
  {
   "cell_type": "code",
   "execution_count": 2,
   "id": "62506d2e",
   "metadata": {},
   "outputs": [],
   "source": [
    "#Defining Function for Historical Data \n",
    "def Initialize(tickers,startyear,startmonth,startday,interval):\n",
    "    yf.pdr_override()\n",
    "    tickers=tickers\n",
    "    startyear=startyear\n",
    "    startmonth=startmonth\n",
    "    startday=startday\n",
    "    interval=interval\n",
    "    start=dt.datetime(startyear,startmonth,startday,)\n",
    "    now=dt.datetime.now()\n",
    "    df=pdr.get_data_yahoo(tickers,start,now, interval=interval,)\n",
    "    df.drop(['High', 'Low','Open','Close','Volume'], axis=1, inplace=True)\n",
    "    df.columns = df.columns.droplevel(0)\n",
    "    return df"
   ]
  },
  {
   "cell_type": "code",
   "execution_count": 3,
   "id": "2c7626f4",
   "metadata": {},
   "outputs": [
    {
     "name": "stdout",
     "output_type": "stream",
     "text": [
      "[*********************100%***********************]  6 of 6 completed\n"
     ]
    }
   ],
   "source": [
    "#Creation of new Dataframe as per provided details\n",
    "df=Initialize(tickers=['GOOGL', 'AAPL','MSFT','GOOG','F','MS'],\n",
    "           startyear=2020,\n",
    "           startmonth=7,\n",
    "           startday=1,\n",
    "           interval=\"1d\")"
   ]
  },
  {
   "cell_type": "code",
   "execution_count": 4,
   "id": "dcc30537",
   "metadata": {},
   "outputs": [
    {
     "name": "stdout",
     "output_type": "stream",
     "text": [
      "                AAPL         F      GOOG     GOOGL        MS      MSFT\n",
      "Date                                                                  \n",
      "2020-07-01 -0.001892 -0.016447  0.017282  0.016889 -0.014286  0.005847\n",
      "2020-07-02  0.000000  0.011706  0.018539  0.019369  0.003781  0.007621\n",
      "2020-07-06  0.026750  0.023140  0.021165  0.020219  0.021553  0.021526\n",
      "2020-07-07 -0.003103 -0.011309 -0.007033 -0.006488 -0.027243 -0.011628\n",
      "2020-07-08  0.023290 -0.004902  0.007285  0.009182  0.029901  0.021993\n"
     ]
    }
   ],
   "source": [
    "#Creation of new Dataframe for returns of securities\n",
    "df2=df.pct_change()\n",
    "df2.dropna(inplace=True)\n",
    "print(df2.head())"
   ]
  },
  {
   "cell_type": "code",
   "execution_count": 5,
   "id": "884b4335",
   "metadata": {},
   "outputs": [],
   "source": [
    "#varcovar1 is the variance covariance matrix, it is created by correlation of the return of securities matrix\n",
    "varcovar1=df2.cov()\n",
    "\n",
    "#UnitrowVector is a Unit matrix (matrix with length equal to number of securities and value of 1 for each).\n",
    "unitrowvector = np.ones(len(varcovar1.columns))"
   ]
  },
  {
   "cell_type": "code",
   "execution_count": 6,
   "id": "ead21750",
   "metadata": {},
   "outputs": [
    {
     "data": {
      "text/plain": [
       "array([ 0.03058883,  0.11241371,  0.25991725, -0.10198179,  0.29160379,\n",
       "        0.40745822])"
      ]
     },
     "execution_count": 6,
     "metadata": {},
     "output_type": "execute_result"
    }
   ],
   "source": [
    "#GMVP equation from Merton \n",
    "#GMVP = (unitrowvector*inverse of varcovar1)/(unitrowvector*inverse of varcovar1*Transpoce of unitrowvector) \n",
    "GMVP=unitrowvector @ np.linalg.inv(varcovar1) / (unitrowvector @ np.linalg.inv(varcovar1) @ unitrowvector.T)\n",
    "GMVP"
   ]
  }
 ],
 "metadata": {
  "kernelspec": {
   "display_name": "Python 3",
   "language": "python",
   "name": "python3"
  },
  "language_info": {
   "codemirror_mode": {
    "name": "ipython",
    "version": 3
   },
   "file_extension": ".py",
   "mimetype": "text/x-python",
   "name": "python",
   "nbconvert_exporter": "python",
   "pygments_lexer": "ipython3",
   "version": "3.8.8"
  }
 },
 "nbformat": 4,
 "nbformat_minor": 5
}
