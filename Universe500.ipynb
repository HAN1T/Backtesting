{
  "nbformat": 4,
  "nbformat_minor": 0,
  "metadata": {
    "colab": {
      "name": "Universe500.ipynb",
      "provenance": [],
      "collapsed_sections": [],
      "authorship_tag": "ABX9TyM+zAU8rI+qNhq3NCr12Ckc",
      "include_colab_link": true
    },
    "kernelspec": {
      "name": "python3",
      "display_name": "Python 3"
    },
    "language_info": {
      "name": "python"
    }
  },
  "cells": [
    {
      "cell_type": "markdown",
      "metadata": {
        "id": "view-in-github",
        "colab_type": "text"
      },
      "source": [
        "<a href=\"https://colab.research.google.com/github/HAN1T/Backtesting_Platform/blob/main/Universe500.ipynb\" target=\"_parent\"><img src=\"https://colab.research.google.com/assets/colab-badge.svg\" alt=\"Open In Colab\"/></a>"
      ]
    },
    {
      "cell_type": "code",
      "metadata": {
        "colab": {
          "base_uri": "https://localhost:8080/"
        },
        "id": "pFbwU96hzXoC",
        "outputId": "4ec41eec-6d4f-4d42-f1c9-f6d10dbf9109"
      },
      "source": [
        "pip install beautifulsoup4"
      ],
      "execution_count": 1,
      "outputs": [
        {
          "output_type": "stream",
          "text": [
            "Requirement already satisfied: beautifulsoup4 in /usr/local/lib/python3.7/dist-packages (4.6.3)\n"
          ],
          "name": "stdout"
        }
      ]
    },
    {
      "cell_type": "code",
      "metadata": {
        "id": "_w047T1Nzdm5"
      },
      "source": [
        "from bs4 import BeautifulSoup\n",
        "import requests"
      ],
      "execution_count": 2,
      "outputs": []
    },
    {
      "cell_type": "code",
      "metadata": {
        "id": "wFCTHNuNziYb"
      },
      "source": [
        "Data = requests.get('https://en.wikipedia.org/wiki/List_of_S%26P_500_companies')\n",
        "soup = BeautifulSoup(Data.text)\n",
        "\n",
        "#print(soup.prettify())"
      ],
      "execution_count": 3,
      "outputs": []
    },
    {
      "cell_type": "code",
      "metadata": {
        "id": "LJ3qGDW_zl9r"
      },
      "source": [
        "tables = soup.find(\"table\", id=\"constituents\")\n",
        "#print(tables)"
      ],
      "execution_count": 4,
      "outputs": []
    },
    {
      "cell_type": "code",
      "metadata": {
        "id": "_pjinw3WzsZ4"
      },
      "source": [
        "tickers = []\n",
        "for tickerlist in tables.find_all(\"tr\")[1:]:\n",
        "  ticker = tickerlist.find_all(\"td\")[0].text\n",
        "  tickers.append(ticker)\n",
        "  #print(ticker)"
      ],
      "execution_count": 5,
      "outputs": []
    },
    {
      "cell_type": "code",
      "metadata": {
        "colab": {
          "base_uri": "https://localhost:8080/"
        },
        "id": "uQ2H0BvfzxDk",
        "outputId": "46a49756-a3f3-41c5-caa6-7a4593b44795"
      },
      "source": [
        "print(tickers)"
      ],
      "execution_count": 6,
      "outputs": [
        {
          "output_type": "stream",
          "text": [
            "['MMM\\n', 'ABT\\n', 'ABBV\\n', 'ABMD\\n', 'ACN\\n', 'ATVI\\n', 'ADBE\\n', 'AMD\\n', 'AAP\\n', 'AES\\n', 'AFL\\n', 'A\\n', 'APD\\n', 'AKAM\\n', 'ALK\\n', 'ALB\\n', 'ARE\\n', 'ALXN\\n', 'ALGN\\n', 'ALLE\\n', 'LNT\\n', 'ALL\\n', 'GOOGL\\n', 'GOOG\\n', 'MO\\n', 'AMZN\\n', 'AMCR\\n', 'AEE\\n', 'AAL\\n', 'AEP\\n', 'AXP\\n', 'AIG\\n', 'AMT\\n', 'AWK\\n', 'AMP\\n', 'ABC\\n', 'AME\\n', 'AMGN\\n', 'APH\\n', 'ADI\\n', 'ANSS\\n', 'ANTM\\n', 'AON\\n', 'AOS\\n', 'APA\\n', 'AAPL\\n', 'AMAT\\n', 'APTV\\n', 'ADM\\n', 'ANET\\n', 'AJG\\n', 'AIZ\\n', 'T\\n', 'ATO\\n', 'ADSK\\n', 'ADP\\n', 'AZO\\n', 'AVB\\n', 'AVY\\n', 'BKR\\n', 'BLL\\n', 'BAC\\n', 'BK\\n', 'BAX\\n', 'BDX\\n', 'BRK.B\\n', 'BBY\\n', 'BIO\\n', 'BIIB\\n', 'BLK\\n', 'BA\\n', 'BKNG\\n', 'BWA\\n', 'BXP\\n', 'BSX\\n', 'BMY\\n', 'AVGO\\n', 'BR\\n', 'BF.B\\n', 'CHRW\\n', 'COG\\n', 'CDNS\\n', 'CZR\\n', 'CPB\\n', 'COF\\n', 'CAH\\n', 'KMX\\n', 'CCL\\n', 'CARR\\n', 'CTLT\\n', 'CAT\\n', 'CBOE\\n', 'CBRE\\n', 'CDW\\n', 'CE\\n', 'CNC\\n', 'CNP\\n', 'CERN\\n', 'CF\\n', 'CRL\\n', 'SCHW\\n', 'CHTR\\n', 'CVX\\n', 'CMG\\n', 'CB\\n', 'CHD\\n', 'CI\\n', 'CINF\\n', 'CTAS\\n', 'CSCO\\n', 'C\\n', 'CFG\\n', 'CTXS\\n', 'CLX\\n', 'CME\\n', 'CMS\\n', 'KO\\n', 'CTSH\\n', 'CL\\n', 'CMCSA\\n', 'CMA\\n', 'CAG\\n', 'COP\\n', 'ED\\n', 'STZ\\n', 'COO\\n', 'CPRT\\n', 'GLW\\n', 'CTVA\\n', 'COST\\n', 'CCI\\n', 'CSX\\n', 'CMI\\n', 'CVS\\n', 'DHI\\n', 'DHR\\n', 'DRI\\n', 'DVA\\n', 'DE\\n', 'DAL\\n', 'XRAY\\n', 'DVN\\n', 'DXCM\\n', 'FANG\\n', 'DLR\\n', 'DFS\\n', 'DISCA\\n', 'DISCK\\n', 'DISH\\n', 'DG\\n', 'DLTR\\n', 'D\\n', 'DPZ\\n', 'DOV\\n', 'DOW\\n', 'DTE\\n', 'DUK\\n', 'DRE\\n', 'DD\\n', 'DXC\\n', 'EMN\\n', 'ETN\\n', 'EBAY\\n', 'ECL\\n', 'EIX\\n', 'EW\\n', 'EA\\n', 'EMR\\n', 'ENPH\\n', 'ETR\\n', 'EOG\\n', 'EFX\\n', 'EQIX\\n', 'EQR\\n', 'ESS\\n', 'EL\\n', 'ETSY\\n', 'EVRG\\n', 'ES\\n', 'RE\\n', 'EXC\\n', 'EXPE\\n', 'EXPD\\n', 'EXR\\n', 'XOM\\n', 'FFIV\\n', 'FB\\n', 'FAST\\n', 'FRT\\n', 'FDX\\n', 'FIS\\n', 'FITB\\n', 'FE\\n', 'FRC\\n', 'FISV\\n', 'FLT\\n', 'FMC\\n', 'F\\n', 'FTNT\\n', 'FTV\\n', 'FBHS\\n', 'FOXA\\n', 'FOX\\n', 'BEN\\n', 'FCX\\n', 'GPS\\n', 'GRMN\\n', 'IT\\n', 'GNRC\\n', 'GD\\n', 'GE\\n', 'GIS\\n', 'GM\\n', 'GPC\\n', 'GILD\\n', 'GL\\n', 'GPN\\n', 'GS\\n', 'GWW\\n', 'HAL\\n', 'HBI\\n', 'HIG\\n', 'HAS\\n', 'HCA\\n', 'PEAK\\n', 'HSIC\\n', 'HSY\\n', 'HES\\n', 'HPE\\n', 'HLT\\n', 'HOLX\\n', 'HD\\n', 'HON\\n', 'HRL\\n', 'HST\\n', 'HWM\\n', 'HPQ\\n', 'HUM\\n', 'HBAN\\n', 'HII\\n', 'IEX\\n', 'IDXX\\n', 'INFO\\n', 'ITW\\n', 'ILMN\\n', 'INCY\\n', 'IR\\n', 'INTC\\n', 'ICE\\n', 'IBM\\n', 'IP\\n', 'IPG\\n', 'IFF\\n', 'INTU\\n', 'ISRG\\n', 'IVZ\\n', 'IPGP\\n', 'IQV\\n', 'IRM\\n', 'JKHY\\n', 'J\\n', 'JBHT\\n', 'SJM\\n', 'JNJ\\n', 'JCI\\n', 'JPM\\n', 'JNPR\\n', 'KSU\\n', 'K\\n', 'KEY\\n', 'KEYS\\n', 'KMB\\n', 'KIM\\n', 'KMI\\n', 'KLAC\\n', 'KHC\\n', 'KR\\n', 'LB\\n', 'LHX\\n', 'LH\\n', 'LRCX\\n', 'LW\\n', 'LVS\\n', 'LEG\\n', 'LDOS\\n', 'LEN\\n', 'LLY\\n', 'LNC\\n', 'LIN\\n', 'LYV\\n', 'LKQ\\n', 'LMT\\n', 'L\\n', 'LOW\\n', 'LUMN\\n', 'LYB\\n', 'MTB\\n', 'MRO\\n', 'MPC\\n', 'MKTX\\n', 'MAR\\n', 'MMC\\n', 'MLM\\n', 'MAS\\n', 'MA\\n', 'MKC\\n', 'MXIM\\n', 'MCD\\n', 'MCK\\n', 'MDT\\n', 'MRK\\n', 'MET\\n', 'MTD\\n', 'MGM\\n', 'MCHP\\n', 'MU\\n', 'MSFT\\n', 'MAA\\n', 'MHK\\n', 'TAP\\n', 'MDLZ\\n', 'MPWR\\n', 'MNST\\n', 'MCO\\n', 'MS\\n', 'MOS\\n', 'MSI\\n', 'MSCI\\n', 'NDAQ\\n', 'NTAP\\n', 'NFLX\\n', 'NWL\\n', 'NEM\\n', 'NWSA\\n', 'NWS\\n', 'NEE\\n', 'NLSN\\n', 'NKE\\n', 'NI\\n', 'NSC\\n', 'NTRS\\n', 'NOC\\n', 'NLOK\\n', 'NCLH\\n', 'NOV\\n', 'NRG\\n', 'NUE\\n', 'NVDA\\n', 'NVR\\n', 'NXPI\\n', 'ORLY\\n', 'OXY\\n', 'ODFL\\n', 'OMC\\n', 'OKE\\n', 'ORCL\\n', 'OGN\\n', 'OTIS\\n', 'PCAR\\n', 'PKG\\n', 'PH\\n', 'PAYX\\n', 'PAYC\\n', 'PYPL\\n', 'PENN\\n', 'PNR\\n', 'PBCT\\n', 'PEP\\n', 'PKI\\n', 'PRGO\\n', 'PFE\\n', 'PM\\n', 'PSX\\n', 'PNW\\n', 'PXD\\n', 'PNC\\n', 'POOL\\n', 'PPG\\n', 'PPL\\n', 'PFG\\n', 'PG\\n', 'PGR\\n', 'PLD\\n', 'PRU\\n', 'PTC\\n', 'PEG\\n', 'PSA\\n', 'PHM\\n', 'PVH\\n', 'QRVO\\n', 'PWR\\n', 'QCOM\\n', 'DGX\\n', 'RL\\n', 'RJF\\n', 'RTX\\n', 'O\\n', 'REG\\n', 'REGN\\n', 'RF\\n', 'RSG\\n', 'RMD\\n', 'RHI\\n', 'ROK\\n', 'ROL\\n', 'ROP\\n', 'ROST\\n', 'RCL\\n', 'SPGI\\n', 'CRM\\n', 'SBAC\\n', 'SLB\\n', 'STX\\n', 'SEE\\n', 'SRE\\n', 'NOW\\n', 'SHW\\n', 'SPG\\n', 'SWKS\\n', 'SNA\\n', 'SO\\n', 'LUV\\n', 'SWK\\n', 'SBUX\\n', 'STT\\n', 'STE\\n', 'SYK\\n', 'SIVB\\n', 'SYF\\n', 'SNPS\\n', 'SYY\\n', 'TMUS\\n', 'TROW\\n', 'TTWO\\n', 'TPR\\n', 'TGT\\n', 'TEL\\n', 'TDY\\n', 'TFX\\n', 'TER\\n', 'TSLA\\n', 'TXN\\n', 'TXT\\n', 'TMO\\n', 'TJX\\n', 'TSCO\\n', 'TT\\n', 'TDG\\n', 'TRV\\n', 'TRMB\\n', 'TFC\\n', 'TWTR\\n', 'TYL\\n', 'TSN\\n', 'UDR\\n', 'ULTA\\n', 'USB\\n', 'UAA\\n', 'UA\\n', 'UNP\\n', 'UAL\\n', 'UNH\\n', 'UPS\\n', 'URI\\n', 'UHS\\n', 'UNM\\n', 'VLO\\n', 'VTR\\n', 'VRSN\\n', 'VRSK\\n', 'VZ\\n', 'VRTX\\n', 'VFC\\n', 'VIAC\\n', 'VTRS\\n', 'V\\n', 'VNO\\n', 'VMC\\n', 'WRB\\n', 'WAB\\n', 'WMT\\n', 'WBA\\n', 'DIS\\n', 'WM\\n', 'WAT\\n', 'WEC\\n', 'WFC\\n', 'WELL\\n', 'WST\\n', 'WDC\\n', 'WU\\n', 'WRK\\n', 'WY\\n', 'WHR\\n', 'WMB\\n', 'WLTW\\n', 'WYNN\\n', 'XEL\\n', 'XLNX\\n', 'XYL\\n', 'YUM\\n', 'ZBRA\\n', 'ZBH\\n', 'ZION\\n', 'ZTS\\n']\n"
          ],
          "name": "stdout"
        }
      ]
    },
    {
      "cell_type": "code",
      "metadata": {
        "colab": {
          "base_uri": "https://localhost:8080/"
        },
        "id": "54EKL6uAzz9G",
        "outputId": "518ac32f-dd1b-4bd8-e515-f3a8e1726cbc"
      },
      "source": [
        "j=0\n",
        "for i in tickers:\n",
        "    tickers[j]=i.rstrip(\"\\n\")\n",
        "    j+=1\n",
        "print(tickers)"
      ],
      "execution_count": 7,
      "outputs": [
        {
          "output_type": "stream",
          "text": [
            "['MMM', 'ABT', 'ABBV', 'ABMD', 'ACN', 'ATVI', 'ADBE', 'AMD', 'AAP', 'AES', 'AFL', 'A', 'APD', 'AKAM', 'ALK', 'ALB', 'ARE', 'ALXN', 'ALGN', 'ALLE', 'LNT', 'ALL', 'GOOGL', 'GOOG', 'MO', 'AMZN', 'AMCR', 'AEE', 'AAL', 'AEP', 'AXP', 'AIG', 'AMT', 'AWK', 'AMP', 'ABC', 'AME', 'AMGN', 'APH', 'ADI', 'ANSS', 'ANTM', 'AON', 'AOS', 'APA', 'AAPL', 'AMAT', 'APTV', 'ADM', 'ANET', 'AJG', 'AIZ', 'T', 'ATO', 'ADSK', 'ADP', 'AZO', 'AVB', 'AVY', 'BKR', 'BLL', 'BAC', 'BK', 'BAX', 'BDX', 'BRK.B', 'BBY', 'BIO', 'BIIB', 'BLK', 'BA', 'BKNG', 'BWA', 'BXP', 'BSX', 'BMY', 'AVGO', 'BR', 'BF.B', 'CHRW', 'COG', 'CDNS', 'CZR', 'CPB', 'COF', 'CAH', 'KMX', 'CCL', 'CARR', 'CTLT', 'CAT', 'CBOE', 'CBRE', 'CDW', 'CE', 'CNC', 'CNP', 'CERN', 'CF', 'CRL', 'SCHW', 'CHTR', 'CVX', 'CMG', 'CB', 'CHD', 'CI', 'CINF', 'CTAS', 'CSCO', 'C', 'CFG', 'CTXS', 'CLX', 'CME', 'CMS', 'KO', 'CTSH', 'CL', 'CMCSA', 'CMA', 'CAG', 'COP', 'ED', 'STZ', 'COO', 'CPRT', 'GLW', 'CTVA', 'COST', 'CCI', 'CSX', 'CMI', 'CVS', 'DHI', 'DHR', 'DRI', 'DVA', 'DE', 'DAL', 'XRAY', 'DVN', 'DXCM', 'FANG', 'DLR', 'DFS', 'DISCA', 'DISCK', 'DISH', 'DG', 'DLTR', 'D', 'DPZ', 'DOV', 'DOW', 'DTE', 'DUK', 'DRE', 'DD', 'DXC', 'EMN', 'ETN', 'EBAY', 'ECL', 'EIX', 'EW', 'EA', 'EMR', 'ENPH', 'ETR', 'EOG', 'EFX', 'EQIX', 'EQR', 'ESS', 'EL', 'ETSY', 'EVRG', 'ES', 'RE', 'EXC', 'EXPE', 'EXPD', 'EXR', 'XOM', 'FFIV', 'FB', 'FAST', 'FRT', 'FDX', 'FIS', 'FITB', 'FE', 'FRC', 'FISV', 'FLT', 'FMC', 'F', 'FTNT', 'FTV', 'FBHS', 'FOXA', 'FOX', 'BEN', 'FCX', 'GPS', 'GRMN', 'IT', 'GNRC', 'GD', 'GE', 'GIS', 'GM', 'GPC', 'GILD', 'GL', 'GPN', 'GS', 'GWW', 'HAL', 'HBI', 'HIG', 'HAS', 'HCA', 'PEAK', 'HSIC', 'HSY', 'HES', 'HPE', 'HLT', 'HOLX', 'HD', 'HON', 'HRL', 'HST', 'HWM', 'HPQ', 'HUM', 'HBAN', 'HII', 'IEX', 'IDXX', 'INFO', 'ITW', 'ILMN', 'INCY', 'IR', 'INTC', 'ICE', 'IBM', 'IP', 'IPG', 'IFF', 'INTU', 'ISRG', 'IVZ', 'IPGP', 'IQV', 'IRM', 'JKHY', 'J', 'JBHT', 'SJM', 'JNJ', 'JCI', 'JPM', 'JNPR', 'KSU', 'K', 'KEY', 'KEYS', 'KMB', 'KIM', 'KMI', 'KLAC', 'KHC', 'KR', 'LB', 'LHX', 'LH', 'LRCX', 'LW', 'LVS', 'LEG', 'LDOS', 'LEN', 'LLY', 'LNC', 'LIN', 'LYV', 'LKQ', 'LMT', 'L', 'LOW', 'LUMN', 'LYB', 'MTB', 'MRO', 'MPC', 'MKTX', 'MAR', 'MMC', 'MLM', 'MAS', 'MA', 'MKC', 'MXIM', 'MCD', 'MCK', 'MDT', 'MRK', 'MET', 'MTD', 'MGM', 'MCHP', 'MU', 'MSFT', 'MAA', 'MHK', 'TAP', 'MDLZ', 'MPWR', 'MNST', 'MCO', 'MS', 'MOS', 'MSI', 'MSCI', 'NDAQ', 'NTAP', 'NFLX', 'NWL', 'NEM', 'NWSA', 'NWS', 'NEE', 'NLSN', 'NKE', 'NI', 'NSC', 'NTRS', 'NOC', 'NLOK', 'NCLH', 'NOV', 'NRG', 'NUE', 'NVDA', 'NVR', 'NXPI', 'ORLY', 'OXY', 'ODFL', 'OMC', 'OKE', 'ORCL', 'OGN', 'OTIS', 'PCAR', 'PKG', 'PH', 'PAYX', 'PAYC', 'PYPL', 'PENN', 'PNR', 'PBCT', 'PEP', 'PKI', 'PRGO', 'PFE', 'PM', 'PSX', 'PNW', 'PXD', 'PNC', 'POOL', 'PPG', 'PPL', 'PFG', 'PG', 'PGR', 'PLD', 'PRU', 'PTC', 'PEG', 'PSA', 'PHM', 'PVH', 'QRVO', 'PWR', 'QCOM', 'DGX', 'RL', 'RJF', 'RTX', 'O', 'REG', 'REGN', 'RF', 'RSG', 'RMD', 'RHI', 'ROK', 'ROL', 'ROP', 'ROST', 'RCL', 'SPGI', 'CRM', 'SBAC', 'SLB', 'STX', 'SEE', 'SRE', 'NOW', 'SHW', 'SPG', 'SWKS', 'SNA', 'SO', 'LUV', 'SWK', 'SBUX', 'STT', 'STE', 'SYK', 'SIVB', 'SYF', 'SNPS', 'SYY', 'TMUS', 'TROW', 'TTWO', 'TPR', 'TGT', 'TEL', 'TDY', 'TFX', 'TER', 'TSLA', 'TXN', 'TXT', 'TMO', 'TJX', 'TSCO', 'TT', 'TDG', 'TRV', 'TRMB', 'TFC', 'TWTR', 'TYL', 'TSN', 'UDR', 'ULTA', 'USB', 'UAA', 'UA', 'UNP', 'UAL', 'UNH', 'UPS', 'URI', 'UHS', 'UNM', 'VLO', 'VTR', 'VRSN', 'VRSK', 'VZ', 'VRTX', 'VFC', 'VIAC', 'VTRS', 'V', 'VNO', 'VMC', 'WRB', 'WAB', 'WMT', 'WBA', 'DIS', 'WM', 'WAT', 'WEC', 'WFC', 'WELL', 'WST', 'WDC', 'WU', 'WRK', 'WY', 'WHR', 'WMB', 'WLTW', 'WYNN', 'XEL', 'XLNX', 'XYL', 'YUM', 'ZBRA', 'ZBH', 'ZION', 'ZTS']\n"
          ],
          "name": "stdout"
        }
      ]
    }
  ]
}