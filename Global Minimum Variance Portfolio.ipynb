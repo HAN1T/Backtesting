{
 "cells": [
  {
   "cell_type": "code",
   "execution_count": 1,
   "id": "e243c136",
   "metadata": {},
   "outputs": [],
   "source": [
    "import pandas as pd\n",
    "import numpy as np\n",
    "import math\n",
    "import datetime as dt\n",
    "from pandas_datareader import data as pdr\n",
    "import yfinance as yf\n",
    "import numpy as np\n",
    "import matplotlib.pyplot as plt"
   ]
  },
  {
   "cell_type": "code",
   "execution_count": 2,
   "id": "9f3052c8",
   "metadata": {},
   "outputs": [],
   "source": [
    "def Initialize(tickers,startyear,startmonth,startday,interval):\n",
    "    yf.pdr_override()\n",
    "    tickers=tickers\n",
    "    startyear=startyear\n",
    "    startmonth=startmonth\n",
    "    startday=startday\n",
    "    interval=interval\n",
    "    start=dt.datetime(startyear,startmonth,startday,)\n",
    "    now=dt.datetime.now()\n",
    "    df=pdr.get_data_yahoo(tickers,start,now, interval=interval,)\n",
    "    df.drop(['High', 'Low','Open','Close','Volume'], axis=1, inplace=True)\n",
    "    df.columns = df.columns.droplevel(0)\n",
    "    return df"
   ]
  },
  {
   "cell_type": "code",
   "execution_count": 3,
   "id": "9a21304e",
   "metadata": {},
   "outputs": [
    {
     "name": "stdout",
     "output_type": "stream",
     "text": [
      "[*********************100%***********************]  26 of 26 completed\n"
     ]
    }
   ],
   "source": [
    "df=Initialize(tickers=['MMM', 'ABT', 'ABBV', 'ABMD', 'ACN', 'ATVI', 'ADBE', 'AMD', 'AAP', 'AES', 'AFL', 'A', 'APD', 'AKAM', 'ALK', 'ALB', 'ARE', 'ALXN', 'ALGN', 'ALLE', 'LNT', 'ALL', 'GOOGL', 'GOOG', 'MO', 'AMZN'],\n",
    "           startyear=2020,\n",
    "           startmonth=7,\n",
    "           startday=1,\n",
    "           interval=\"1d\")"
   ]
  },
  {
   "cell_type": "code",
   "execution_count": 4,
   "id": "50347809",
   "metadata": {},
   "outputs": [],
   "source": [
    "df2=df.pct_change()\n",
    "df2.dropna(inplace=True)"
   ]
  },
  {
   "cell_type": "code",
   "execution_count": 5,
   "id": "90e5a5b5",
   "metadata": {},
   "outputs": [],
   "source": [
    "df3=df2.corr()"
   ]
  },
  {
   "cell_type": "code",
   "execution_count": 6,
   "id": "2b19f09d",
   "metadata": {},
   "outputs": [
    {
     "data": {
      "text/plain": [
       "'\\nTo find the Minimum Variance Portfolio, Correlation Matrix is not useful since correlation is always in pairs\\nusing this we can never find out list of uncorrelated stocks. \\nIt is also worth mentioning, \\nIf \\nA is uncorrelated to B\\nA is uncorrelated to C\\nIt does justify B is uncorrelated to C\\nSo to conclude we need a way to create all possible combinations of stocks to find portfolio of least variance \\n'"
      ]
     },
     "execution_count": 6,
     "metadata": {},
     "output_type": "execute_result"
    }
   ],
   "source": [
    "'''\n",
    "To find the Minimum Variance Portfolio, Correlation Matrix is not useful since correlation is always in pairs\n",
    "using this we can never find out list of uncorrelated stocks. \n",
    "It is also worth mentioning, \n",
    "If \n",
    "A is uncorrelated to B\n",
    "A is uncorrelated to C\n",
    "It does justify B is uncorrelated to C\n",
    "So to conclude we need a way to create all possible combinations of stocks to find portfolio of least variance \n",
    "'''"
   ]
  },
  {
   "cell_type": "code",
   "execution_count": 7,
   "id": "32284467",
   "metadata": {},
   "outputs": [],
   "source": [
    "Er=np.array(df2.describe().loc['mean'])\n",
    "std=np.array(df2.describe().loc['std'])\n",
    "var=std**2\n",
    "varcovar1=df2.cov()"
   ]
  },
  {
   "cell_type": "code",
   "execution_count": 8,
   "id": "4f1816d9",
   "metadata": {},
   "outputs": [],
   "source": [
    "# Efficient Portfolio A\n",
    "\n",
    "c1=0\n",
    "\n",
    "weightA=np.linalg.inv(varcovar1) @ (Er-c1) / np.sum(np.linalg.inv(varcovar1) @ (Er-c1))\n",
    "ErA=weightA@Er\n",
    "VarA=weightA@varcovar1@weightA.T\n",
    "stdA=np.sqrt(VarA)"
   ]
  },
  {
   "cell_type": "code",
   "execution_count": 9,
   "id": "c788eef3",
   "metadata": {},
   "outputs": [],
   "source": [
    "# Efficient Portfolio B\n",
    "\n",
    "c2=0.04\n",
    "\n",
    "weightB=np.linalg.inv(varcovar1) @ (Er-c2) / np.sum(np.linalg.inv(varcovar1) @ (Er-c2))\n",
    "ErB=weightB@Er\n",
    "VarB=weightB@varcovar1@weightB.T\n",
    "stdB=np.sqrt(VarB)"
   ]
  },
  {
   "cell_type": "code",
   "execution_count": 10,
   "id": "37ab7e7c",
   "metadata": {},
   "outputs": [],
   "source": [
    "covAB=weightA@varcovar1@weightB.T"
   ]
  },
  {
   "cell_type": "code",
   "execution_count": 11,
   "id": "e4e1a404",
   "metadata": {},
   "outputs": [],
   "source": [
    "wa=np.linspace(-1.5,4.5,num=100)\n",
    "wb=1-wa"
   ]
  },
  {
   "cell_type": "code",
   "execution_count": 12,
   "id": "83b8867f",
   "metadata": {},
   "outputs": [],
   "source": [
    "ErC=wa*ErA + wb*ErB"
   ]
  },
  {
   "cell_type": "code",
   "execution_count": 13,
   "id": "44842adb",
   "metadata": {},
   "outputs": [],
   "source": [
    "stdC=np.sqrt((wa*stdA)**2 + (wb*stdB)**2 + 2*wa*wb*covAB)"
   ]
  },
  {
   "cell_type": "code",
   "execution_count": 14,
   "id": "b995a4ff",
   "metadata": {},
   "outputs": [],
   "source": [
    "UM=np.ones((varcovar1.shape[0]))\n",
    "\n",
    "GMVP=UM @ np.linalg.inv(varcovar1) / (UM @ np.linalg.inv(varcovar1) @ UM.T)"
   ]
  },
  {
   "cell_type": "code",
   "execution_count": 15,
   "id": "f8d1198f",
   "metadata": {},
   "outputs": [
    {
     "data": {
      "text/plain": [
       "array([ 0.10899855,  0.05784007,  0.11334048,  0.0195891 ,  0.06303886,\n",
       "       -0.07236094,  0.02381828,  0.00105162,  0.02112837,  0.01547621,\n",
       "        0.00515849, -0.04531944,  0.00802877,  0.1062106 , -0.05231315,\n",
       "        0.01575185,  0.02069074,  0.0658363 ,  0.02090613,  0.11802533,\n",
       "        0.05572115,  0.02459583, -0.07243153,  0.15561234,  0.18367692,\n",
       "        0.03792906])"
      ]
     },
     "execution_count": 15,
     "metadata": {},
     "output_type": "execute_result"
    }
   ],
   "source": [
    "GMVP"
   ]
  },
  {
   "cell_type": "code",
   "execution_count": 16,
   "id": "e559e283",
   "metadata": {},
   "outputs": [],
   "source": [
    "ErG=GMVP@Er\n",
    "stdG=np.sqrt(GMVP@varcovar1@GMVP.T)"
   ]
  },
  {
   "cell_type": "code",
   "execution_count": 17,
   "id": "38e0c4c5",
   "metadata": {},
   "outputs": [
    {
     "data": {
      "image/png": "[encoded data removed]",
      "text/plain": [
       "<Figure size 432x288 with 1 Axes>"
      ]
     },
     "metadata": {
      "needs_background": "light"
     },
     "output_type": "display_data"
    }
   ],
   "source": [
    "plt.xlabel(\"Portfolio Standard Deviation\")\n",
    "plt.ylabel(\"Portfolio Mean Return\")\n",
    "plt.title(\"Global Minimum Variance Portfolio\")\n",
    "plt.plot(stdC,ErC)\n",
    "plt.scatter(stdG,ErG)\n",
    "plt.show()"
   ]
  }
 ],
 "metadata": {
  "kernelspec": {
   "display_name": "Python 3",
   "language": "python",
   "name": "python3"
  },
  "language_info": {
   "codemirror_mode": {
    "name": "ipython",
    "version": 3
   },
   "file_extension": ".py",
   "mimetype": "text/x-python",
   "name": "python",
   "nbconvert_exporter": "python",
   "pygments_lexer": "ipython3",
   "version": "3.8.8"
  }
 },
 "nbformat": 4,
 "nbformat_minor": 5
}
