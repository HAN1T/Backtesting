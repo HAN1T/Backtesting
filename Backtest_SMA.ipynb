{
 "cells": [
  {
   "cell_type": "code",
   "execution_count": 27,
   "id": "18fab486",
   "metadata": {},
   "outputs": [],
   "source": [
    "import pandas as pd\n",
    "import numpy as np\n",
    "import math\n",
    "import datetime as dt\n",
    "from pandas_datareader import data as pdr\n",
    "import yfinance as yf\n",
    "import numpy as np"
   ]
  },
  {
   "cell_type": "code",
   "execution_count": 28,
   "id": "1bcf74e5",
   "metadata": {},
   "outputs": [
    {
     "name": "stdout",
     "output_type": "stream",
     "text": [
      "[*********************100%***********************]  1 of 1 completed\n"
     ]
    }
   ],
   "source": [
    "yf.pdr_override()\n",
    "stock= \"MSFT\"\n",
    "\n",
    "startyear=2021\n",
    "startmonth=6\n",
    "startday=1\n",
    "interval = \"5m\"\n",
    "\n",
    "start=dt.datetime(startyear,startmonth,startday,)\n",
    "\n",
    "now=dt.datetime.now()\n",
    "\n",
    "df=pdr.get_data_yahoo(stock,start,now, interval=interval)"
   ]
  },
  {
   "cell_type": "code",
   "execution_count": 29,
   "id": "cd8979fb",
   "metadata": {},
   "outputs": [
    {
     "name": "stdout",
     "output_type": "stream",
     "text": [
      "                                 Open        High         Low       Close  \\\n",
      "Datetime                                                                    \n",
      "2021-06-01 09:30:00-04:00  250.770004  251.089996  250.559998  250.615005   \n",
      "2021-06-01 09:35:00-04:00  250.619995  250.720001  250.199997  250.490005   \n",
      "2021-06-01 09:40:00-04:00  250.470001  250.785004  249.929993  249.996796   \n",
      "2021-06-01 09:45:00-04:00  250.000000  250.199997  249.699997  249.820007   \n",
      "2021-06-01 09:50:00-04:00  249.820007  249.839996  249.460007  249.613297   \n",
      "\n",
      "                            Adj Close   Volume  \n",
      "Datetime                                        \n",
      "2021-06-01 09:30:00-04:00  250.615005  1099735  \n",
      "2021-06-01 09:35:00-04:00  250.490005   551306  \n",
      "2021-06-01 09:40:00-04:00  249.996796   443887  \n",
      "2021-06-01 09:45:00-04:00  249.820007   383814  \n",
      "2021-06-01 09:50:00-04:00  249.613297   307132  \n"
     ]
    }
   ],
   "source": [
    "print(df.head())"
   ]
  },
  {
   "cell_type": "code",
   "execution_count": 30,
   "id": "3f14e3fe",
   "metadata": {},
   "outputs": [],
   "source": [
    "ma1=50\n",
    "ma2=100\n",
    "\n",
    "df[stock + \" Sma_\" + str(ma1)] = df.iloc[:,4].rolling(window=ma1).mean()\n",
    "df[stock + \" Sma_\" + str(ma2)] = df.iloc[:,4].rolling(window=ma2).mean()"
   ]
  },
  {
   "cell_type": "code",
   "execution_count": 31,
   "id": "85380f0c",
   "metadata": {},
   "outputs": [
    {
     "name": "stdout",
     "output_type": "stream",
     "text": [
      "                                 Open        High         Low       Close  \\\n",
      "Datetime                                                                    \n",
      "2021-07-28 15:40:00-04:00  286.279999  286.640015  286.279999  286.619995   \n",
      "2021-07-28 15:45:00-04:00  286.619995  286.640015  286.429993  286.519989   \n",
      "2021-07-28 15:50:00-04:00  286.529999  286.690002  286.200012  286.390015   \n",
      "2021-07-28 15:55:00-04:00  286.380005  286.529999  286.100006  286.220001   \n",
      "2021-07-28 16:00:00-04:00  286.220001  286.220001  286.220001  286.220001   \n",
      "\n",
      "                            Adj Close  Volume  MSFT Sma_50  MSFT Sma_100  \n",
      "Datetime                                                                  \n",
      "2021-07-28 15:40:00-04:00  286.619995  279953   286.601964    286.701691  \n",
      "2021-07-28 15:45:00-04:00  286.519989  234961   286.572964    286.730691  \n",
      "2021-07-28 15:50:00-04:00  286.390015  528062   286.554164    286.754991  \n",
      "2021-07-28 15:55:00-04:00  286.220001  714497   286.537382    286.773391  \n",
      "2021-07-28 16:00:00-04:00  286.220001       0   286.521782    286.788691  \n"
     ]
    }
   ],
   "source": [
    "print(df.tail())"
   ]
  },
  {
   "cell_type": "code",
   "execution_count": 32,
   "id": "09d84ad7",
   "metadata": {},
   "outputs": [],
   "source": [
    "#df['Status'] = '0'\n",
    "#mask = (df[stock + \" Sma_\" + str(ma1)] > df[stock + \" Sma_\" + str(ma2)])\n",
    "#df.loc[mask, 'Status'] = '1'\n",
    "df[\"Status\"] = np.where(df[stock + \" Sma_\" + str(ma1)] > df[stock + \" Sma_\" + str(ma2)], 1, 0)"
   ]
  },
  {
   "cell_type": "code",
   "execution_count": 33,
   "id": "61f180e5",
   "metadata": {},
   "outputs": [
    {
     "name": "stdout",
     "output_type": "stream",
     "text": [
      "Datetime\n",
      "2021-06-01 09:30:00-04:00    0\n",
      "2021-06-01 09:35:00-04:00    0\n",
      "2021-06-01 09:40:00-04:00    0\n",
      "2021-06-01 09:45:00-04:00    0\n",
      "2021-06-01 09:50:00-04:00    0\n",
      "                            ..\n",
      "2021-07-28 15:40:00-04:00    0\n",
      "2021-07-28 15:45:00-04:00    0\n",
      "2021-07-28 15:50:00-04:00    0\n",
      "2021-07-28 15:55:00-04:00    0\n",
      "2021-07-28 16:00:00-04:00    0\n",
      "Name: Status, Length: 3197, dtype: int64\n"
     ]
    }
   ],
   "source": [
    "print(df['Status'])"
   ]
  },
  {
   "cell_type": "code",
   "execution_count": 34,
   "id": "a11847b7",
   "metadata": {},
   "outputs": [
    {
     "name": "stdout",
     "output_type": "stream",
     "text": [
      "                                 Open        High         Low       Close  \\\n",
      "Datetime                                                                    \n",
      "2021-07-28 15:40:00-04:00  286.279999  286.640015  286.279999  286.619995   \n",
      "2021-07-28 15:45:00-04:00  286.619995  286.640015  286.429993  286.519989   \n",
      "2021-07-28 15:50:00-04:00  286.529999  286.690002  286.200012  286.390015   \n",
      "2021-07-28 15:55:00-04:00  286.380005  286.529999  286.100006  286.220001   \n",
      "2021-07-28 16:00:00-04:00  286.220001  286.220001  286.220001  286.220001   \n",
      "\n",
      "                            Adj Close  Volume  MSFT Sma_50  MSFT Sma_100  \\\n",
      "Datetime                                                                   \n",
      "2021-07-28 15:40:00-04:00  286.619995  279953   286.601964    286.701691   \n",
      "2021-07-28 15:45:00-04:00  286.519989  234961   286.572964    286.730691   \n",
      "2021-07-28 15:50:00-04:00  286.390015  528062   286.554164    286.754991   \n",
      "2021-07-28 15:55:00-04:00  286.220001  714497   286.537382    286.773391   \n",
      "2021-07-28 16:00:00-04:00  286.220001       0   286.521782    286.788691   \n",
      "\n",
      "                           Status  Long  \n",
      "Datetime                                 \n",
      "2021-07-28 15:40:00-04:00       0   0.0  \n",
      "2021-07-28 15:45:00-04:00       0  -0.0  \n",
      "2021-07-28 15:50:00-04:00       0  -0.0  \n",
      "2021-07-28 15:55:00-04:00       0  -0.0  \n",
      "2021-07-28 16:00:00-04:00       0   0.0  \n"
     ]
    }
   ],
   "source": [
    "df['Long']=df['Close'].pct_change()*df['Status']\n",
    "print(df.tail(5))"
   ]
  },
  {
   "cell_type": "code",
   "execution_count": 35,
   "id": "a4ecee0e",
   "metadata": {},
   "outputs": [
    {
     "name": "stdout",
     "output_type": "stream",
     "text": [
      "Datetime\n",
      "2021-07-28 15:40:00-04:00    0.0\n",
      "2021-07-28 15:45:00-04:00   -0.0\n",
      "2021-07-28 15:50:00-04:00   -0.0\n",
      "2021-07-28 15:55:00-04:00   -0.0\n",
      "2021-07-28 16:00:00-04:00    0.0\n",
      "Name: Long, dtype: float64\n"
     ]
    }
   ],
   "source": [
    "print(df['Long'].tail(5))"
   ]
  },
  {
   "cell_type": "code",
   "execution_count": 36,
   "id": "d6dab1e7",
   "metadata": {},
   "outputs": [
    {
     "name": "stdout",
     "output_type": "stream",
     "text": [
      "                                 Open        High         Low       Close  \\\n",
      "Datetime                                                                    \n",
      "2021-07-28 15:40:00-04:00  286.279999  286.640015  286.279999  286.619995   \n",
      "2021-07-28 15:45:00-04:00  286.619995  286.640015  286.429993  286.519989   \n",
      "2021-07-28 15:50:00-04:00  286.529999  286.690002  286.200012  286.390015   \n",
      "2021-07-28 15:55:00-04:00  286.380005  286.529999  286.100006  286.220001   \n",
      "2021-07-28 16:00:00-04:00  286.220001  286.220001  286.220001  286.220001   \n",
      "\n",
      "                            Adj Close  Volume  MSFT Sma_50  MSFT Sma_100  \\\n",
      "Datetime                                                                   \n",
      "2021-07-28 15:40:00-04:00  286.619995  279953   286.601964    286.701691   \n",
      "2021-07-28 15:45:00-04:00  286.519989  234961   286.572964    286.730691   \n",
      "2021-07-28 15:50:00-04:00  286.390015  528062   286.554164    286.754991   \n",
      "2021-07-28 15:55:00-04:00  286.220001  714497   286.537382    286.773391   \n",
      "2021-07-28 16:00:00-04:00  286.220001       0   286.521782    286.788691   \n",
      "\n",
      "                           Status  Long  Strategy  \n",
      "Datetime                                           \n",
      "2021-07-28 15:40:00-04:00       0   0.0  1.039634  \n",
      "2021-07-28 15:45:00-04:00       0  -0.0  1.039634  \n",
      "2021-07-28 15:50:00-04:00       0  -0.0  1.039634  \n",
      "2021-07-28 15:55:00-04:00       0  -0.0  1.039634  \n",
      "2021-07-28 16:00:00-04:00       0   0.0  1.039634  \n"
     ]
    }
   ],
   "source": [
    "df['Strategy']=(df['Long']+1).cumprod()\n",
    "print(df.tail(5))"
   ]
  },
  {
   "cell_type": "code",
   "execution_count": 37,
   "id": "321eecb5",
   "metadata": {},
   "outputs": [
    {
     "name": "stdout",
     "output_type": "stream",
     "text": [
      "                                 Open        High         Low       Close  \\\n",
      "Datetime                                                                    \n",
      "2021-07-28 15:40:00-04:00  286.279999  286.640015  286.279999  286.619995   \n",
      "2021-07-28 15:45:00-04:00  286.619995  286.640015  286.429993  286.519989   \n",
      "2021-07-28 15:50:00-04:00  286.529999  286.690002  286.200012  286.390015   \n",
      "2021-07-28 15:55:00-04:00  286.380005  286.529999  286.100006  286.220001   \n",
      "2021-07-28 16:00:00-04:00  286.220001  286.220001  286.220001  286.220001   \n",
      "\n",
      "                            Adj Close  Volume  MSFT Sma_50  MSFT Sma_100  \\\n",
      "Datetime                                                                   \n",
      "2021-07-28 15:40:00-04:00  286.619995  279953   286.601964    286.701691   \n",
      "2021-07-28 15:45:00-04:00  286.519989  234961   286.572964    286.730691   \n",
      "2021-07-28 15:50:00-04:00  286.390015  528062   286.554164    286.754991   \n",
      "2021-07-28 15:55:00-04:00  286.220001  714497   286.537382    286.773391   \n",
      "2021-07-28 16:00:00-04:00  286.220001       0   286.521782    286.788691   \n",
      "\n",
      "                           Status  Long  Strategy  BuynHold  \n",
      "Datetime                                                     \n",
      "2021-07-28 15:40:00-04:00       0   0.0  1.039634  1.143667  \n",
      "2021-07-28 15:45:00-04:00       0  -0.0  1.039634  1.143267  \n",
      "2021-07-28 15:50:00-04:00       0  -0.0  1.039634  1.142749  \n",
      "2021-07-28 15:55:00-04:00       0  -0.0  1.039634  1.142070  \n",
      "2021-07-28 16:00:00-04:00       0   0.0  1.039634  1.142070  \n"
     ]
    }
   ],
   "source": [
    "df['BuynHold']=(df['Close'].pct_change()+1).cumprod()\n",
    "print(df.tail(5))"
   ]
  },
  {
   "cell_type": "code",
   "execution_count": 26,
   "id": "795ed2fb",
   "metadata": {},
   "outputs": [
    {
     "data": {
      "text/plain": [
       "<AxesSubplot:xlabel='Datetime'>"
      ]
     },
     "execution_count": 26,
     "metadata": {},
     "output_type": "execute_result"
    },
    {
     "data": {
      "image/png": "[encoded data removed]",
      "text/plain": [
       "<Figure size 432x288 with 1 Axes>"
      ]
     },
     "metadata": {
      "needs_background": "light"
     },
     "output_type": "display_data"
    }
   ],
   "source": [
    "df[['Strategy', 'BuynHold']].plot()"
   ]
  },
  {
   "cell_type": "code",
   "execution_count": null,
   "id": "46b4120f",
   "metadata": {},
   "outputs": [],
   "source": []
  }
 ],
 "metadata": {
  "kernelspec": {
   "display_name": "Python 3",
   "language": "python",
   "name": "python3"
  },
  "language_info": {
   "codemirror_mode": {
    "name": "ipython",
    "version": 3
   },
   "file_extension": ".py",
   "mimetype": "text/x-python",
   "name": "python",
   "nbconvert_exporter": "python",
   "pygments_lexer": "ipython3",
   "version": "3.8.8"
  }
 },
 "nbformat": 4,
 "nbformat_minor": 5
}
