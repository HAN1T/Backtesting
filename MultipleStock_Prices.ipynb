{
 "cells": [
  {
   "cell_type": "code",
   "execution_count": 1,
   "id": "119efa00",
   "metadata": {},
   "outputs": [],
   "source": [
    "import pandas as pd\n",
    "import numpy as np\n",
    "import math\n",
    "import datetime as dt\n",
    "from pandas_datareader import data as pdr\n",
    "import yfinance as yf\n",
    "import numpy as np"
   ]
  },
  {
   "cell_type": "code",
   "execution_count": 2,
   "id": "cabe3b20",
   "metadata": {},
   "outputs": [
    {
     "name": "stdout",
     "output_type": "stream",
     "text": [
      "[*********************100%***********************]  3 of 3 completed\n"
     ]
    }
   ],
   "source": [
    "yf.pdr_override()\n",
    "tickers = \"SPY AAPL MSFT\"\n",
    "\n",
    "startyear=2021\n",
    "startmonth=7\n",
    "startday=1\n",
    "interval = \"5m\"\n",
    "group_by = 'ticker'\n",
    "\n",
    "start=dt.datetime(startyear,startmonth,startday,)\n",
    "\n",
    "now=dt.datetime.now()\n",
    "\n",
    "df=pdr.get_data_yahoo(tickers,start,now, interval=interval,) #group_by = group_by"
   ]
  },
  {
   "cell_type": "code",
   "execution_count": 3,
   "id": "de4c8b27",
   "metadata": {},
   "outputs": [
    {
     "name": "stdout",
     "output_type": "stream",
     "text": [
      "                            Adj Close                        \n",
      "                                 AAPL        MSFT         SPY\n",
      "Datetime                                                     \n",
      "2021-07-01 09:30:00-04:00  136.690002  270.529999  429.149994\n",
      "2021-07-01 09:35:00-04:00  136.490005  269.704987  428.880005\n",
      "2021-07-01 09:40:00-04:00  136.675003  270.250000  429.260010\n",
      "2021-07-01 09:45:00-04:00  137.050003  270.339996  429.369995\n",
      "2021-07-01 09:50:00-04:00  136.679993  270.350006  429.239990\n"
     ]
    }
   ],
   "source": [
    "df.drop(['High', 'Low','Open','Close','Volume'], axis=1, inplace=True)\n",
    "print(df.head())"
   ]
  },
  {
   "cell_type": "code",
   "execution_count": 4,
   "id": "4e503266",
   "metadata": {},
   "outputs": [
    {
     "name": "stdout",
     "output_type": "stream",
     "text": [
      "                                 AAPL        MSFT         SPY\n",
      "Datetime                                                     \n",
      "2021-07-01 09:30:00-04:00  136.690002  270.529999  429.149994\n",
      "2021-07-01 09:35:00-04:00  136.490005  269.704987  428.880005\n",
      "2021-07-01 09:40:00-04:00  136.675003  270.250000  429.260010\n",
      "2021-07-01 09:45:00-04:00  137.050003  270.339996  429.369995\n",
      "2021-07-01 09:50:00-04:00  136.679993  270.350006  429.239990\n"
     ]
    }
   ],
   "source": [
    "df.columns = df.columns.droplevel(0)\n",
    "print(df.head())"
   ]
  }
 ],
 "metadata": {
  "kernelspec": {
   "display_name": "Python 3",
   "language": "python",
   "name": "python3"
  },
  "language_info": {
   "codemirror_mode": {
    "name": "ipython",
    "version": 3
   },
   "file_extension": ".py",
   "mimetype": "text/x-python",
   "name": "python",
   "nbconvert_exporter": "python",
   "pygments_lexer": "ipython3",
   "version": "3.8.8"
  }
 },
 "nbformat": 4,
 "nbformat_minor": 5
}
