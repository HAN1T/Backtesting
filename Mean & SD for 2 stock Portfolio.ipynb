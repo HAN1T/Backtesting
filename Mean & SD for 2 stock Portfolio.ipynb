{
 "cells": [
  {
   "cell_type": "code",
   "execution_count": 1,
   "id": "96ed027e",
   "metadata": {},
   "outputs": [],
   "source": [
    "import pandas as pd\n",
    "import numpy as np\n",
    "import math\n",
    "import datetime as dt\n",
    "from pandas_datareader import data as pdr\n",
    "import yfinance as yf\n",
    "import numpy as np\n",
    "import matplotlib.pyplot as plt\n",
    "import math"
   ]
  },
  {
   "cell_type": "code",
   "execution_count": 2,
   "id": "0371276e",
   "metadata": {},
   "outputs": [],
   "source": [
    "#Defining Function for Historical Data \n",
    "def Initialize(tickers,startyear,startmonth,startday,interval):\n",
    "    yf.pdr_override()\n",
    "    tickers=tickers\n",
    "    startyear=startyear\n",
    "    startmonth=startmonth\n",
    "    startday=startday\n",
    "    interval=interval\n",
    "    start=dt.datetime(startyear,startmonth,startday,)\n",
    "    now=dt.datetime.now()\n",
    "    df=pdr.get_data_yahoo(tickers,start,now, interval=interval,)\n",
    "    df.drop(['High', 'Low','Open','Close','Volume'], axis=1, inplace=True)\n",
    "    df.columns = df.columns.droplevel(0)\n",
    "    return df"
   ]
  },
  {
   "cell_type": "code",
   "execution_count": 3,
   "id": "85e4ccc7",
   "metadata": {},
   "outputs": [
    {
     "name": "stdout",
     "output_type": "stream",
     "text": [
      "[*********************100%***********************]  2 of 2 completed\n"
     ]
    }
   ],
   "source": [
    "#Creation of new Dataframe as per provided details\n",
    "df=Initialize(tickers=['GOOGL', 'AAPL'],\n",
    "           startyear=2020,\n",
    "           startmonth=7,\n",
    "           startday=1,\n",
    "           interval=\"1d\")"
   ]
  },
  {
   "cell_type": "code",
   "execution_count": 4,
   "id": "9a82d4e6",
   "metadata": {},
   "outputs": [
    {
     "name": "stdout",
     "output_type": "stream",
     "text": [
      "                AAPL     GOOGL\n",
      "Date                          \n",
      "2020-07-01 -0.001892  0.016889\n",
      "2020-07-02  0.000000  0.019369\n",
      "2020-07-06  0.026750  0.020219\n",
      "2020-07-07 -0.003103 -0.006488\n",
      "2020-07-08  0.023290  0.009182\n"
     ]
    }
   ],
   "source": [
    "#Creation of new Dataframe for returns of securities\n",
    "df2=df.pct_change()\n",
    "df2.dropna(inplace=True)\n",
    "print(df2.head())"
   ]
  },
  {
   "cell_type": "code",
   "execution_count": 5,
   "id": "4a6c86b5",
   "metadata": {},
   "outputs": [],
   "source": [
    "#Obtaining Mean of the securities for defined timeseries\n",
    "mean=df2.mean(axis=0)\n",
    "mean_AAPL=mean[0]\n",
    "mean_GOOGL=mean[1]\n",
    "\n",
    "Annual_Mean_AAPL=mean[0]*12\n",
    "Annual_Mean_GOOGL=mean[1]*12"
   ]
  },
  {
   "cell_type": "code",
   "execution_count": 6,
   "id": "18b223a0",
   "metadata": {},
   "outputs": [],
   "source": [
    "#Obtaining Var of the securities for defined timeseries\n",
    "Var=df2.var(axis=0)\n",
    "Var_AAPL=Var[0]\n",
    "Var_GOOGL=Var[1]\n",
    "\n",
    "Annual_Var_AAPL=Var[0]*12\n",
    "Annual_Var_GOOGL=Var[1]*12"
   ]
  },
  {
   "cell_type": "code",
   "execution_count": 7,
   "id": "8ff035bd",
   "metadata": {},
   "outputs": [],
   "source": [
    "#Obtaining Standard Deviation of the securities for defined timeseries\n",
    "Std=df2.std(axis=0)\n",
    "Std_AAPL=Std[0]\n",
    "Std_GOOGL=Std[1]\n",
    "\n",
    "Annual_Std_AAPL=Std[0]*math.sqrt(12)\n",
    "Annual_Std_GOOGL=Std[1]*math.sqrt(12)"
   ]
  },
  {
   "cell_type": "code",
   "execution_count": 8,
   "id": "f5a967a8",
   "metadata": {},
   "outputs": [],
   "source": [
    "#Obtaining Correlation Coefficient\n",
    "Cov=df2.cov()\n",
    "Cov_AAPL_GOOGL=Cov.iloc[1, 0]\n",
    "\n",
    "Corr=df2.corr()\n",
    "Corr_AAPL_GOOGL=Corr.iloc[1, 0]"
   ]
  },
  {
   "cell_type": "code",
   "execution_count": 9,
   "id": "265f54b5",
   "metadata": {},
   "outputs": [],
   "source": [
    "#Defining weights  and Expected Returns of securities\n",
    "weight_AAPL=np.linspace(-0.5,1.5,num=50)\n",
    "weight_GOOGL=1-weight_AAPL\n",
    "\n",
    "E_AAPL=mean_AAPL\n",
    "E_GOOGL=mean_GOOGL"
   ]
  },
  {
   "cell_type": "code",
   "execution_count": 10,
   "id": "44ed76a3",
   "metadata": {},
   "outputs": [],
   "source": [
    "#Expected portfolio return (Ep) = ((weight_AAPL * E_AAPL) + (weight_GOOGL * E_GOOGL))\n",
    "#Where weight_GOOGL=1-weight_AAPL\n",
    "\n",
    "Ep=np.array(weight_AAPL*E_AAPL + weight_GOOGL*E_GOOGL)\n",
    "\n",
    "#Portfolio standard deviation (Sp) = ((weight_AAPL**2)*Var_AAPL) + ((weight_GOOGL**2)* Var_GOOGL) + (2*weight_AAPL*weight_GOOGL*Cov_AAPL_GOOGL)\n",
    "Sp=np.array((weight_AAPL**2)*Var_AAPL)+((weight_GOOGL**2)*Var_GOOGL)+(2*weight_AAPL*weight_GOOGL*Cov_AAPL_GOOGL)"
   ]
  },
  {
   "cell_type": "code",
   "execution_count": 11,
   "id": "543e28a3",
   "metadata": {},
   "outputs": [
    {
     "name": "stdout",
     "output_type": "stream",
     "text": [
      "   weight_AAPL  Portfolio_standard_deviation  Expected_portfolio_return\n",
      "0    -0.500000                      0.000468                   0.002835\n",
      "1    -0.459184                      0.000445                   0.002810\n",
      "2    -0.418367                      0.000424                   0.002785\n",
      "3    -0.377551                      0.000404                   0.002760\n",
      "4    -0.336735                      0.000385                   0.002735\n"
     ]
    }
   ],
   "source": [
    "#Creating new df with columns Weight_AAPL, Portfolio Standard Deviation and Expected Portfolio Return\n",
    "df_portfolio = pd.DataFrame(columns=['weight_AAPL', 'Portfolio_standard_deviation', 'Expected_portfolio_return'])\n",
    "df_portfolio['weight_AAPL']=weight_AAPL\n",
    "df_portfolio['Portfolio_standard_deviation']=Sp\n",
    "df_portfolio['Expected_portfolio_return']=Ep\n",
    "print(df_portfolio.head())"
   ]
  },
  {
   "cell_type": "code",
   "execution_count": 12,
   "id": "b6b12aae",
   "metadata": {},
   "outputs": [
    {
     "data": {
      "image/png": "[encoded data removed]",
      "text/plain": [
       "<Figure size 432x288 with 1 Axes>"
      ]
     },
     "metadata": {
      "needs_background": "light"
     },
     "output_type": "display_data"
    }
   ],
   "source": [
    "#Making beautiful graph\n",
    "plt.xlabel(\"Portfolio Standard Deviation\")\n",
    "plt.ylabel(\"Portfolio Mean Return\")\n",
    "plt.title(\"Portfolio Er(p) and SD(p)\")\n",
    "plt.plot(Sp,Ep)\n",
    "plt.show()"
   ]
  }
 ],
 "metadata": {
  "kernelspec": {
   "display_name": "Python 3",
   "language": "python",
   "name": "python3"
  },
  "language_info": {
   "codemirror_mode": {
    "name": "ipython",
    "version": 3
   },
   "file_extension": ".py",
   "mimetype": "text/x-python",
   "name": "python",
   "nbconvert_exporter": "python",
   "pygments_lexer": "ipython3",
   "version": "3.8.8"
  }
 },
 "nbformat": 4,
 "nbformat_minor": 5
}
