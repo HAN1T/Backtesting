{
 "cells": [
  {
   "cell_type": "code",
   "execution_count": 1,
   "id": "4a0d3552",
   "metadata": {},
   "outputs": [],
   "source": [
    "import pandas as pd\n",
    "import numpy as np\n",
    "import math\n",
    "import datetime as dt\n",
    "from pandas_datareader import data as pdr\n",
    "import yfinance as yf\n",
    "import numpy as np\n",
    "import matplotlib.pyplot as plt\n",
    "import math\n",
    "from scipy.stats import norm"
   ]
  },
  {
   "cell_type": "code",
   "execution_count": 2,
   "id": "bde37149",
   "metadata": {},
   "outputs": [],
   "source": [
    "#Defining Function for Historical Data \n",
    "def Initialize(tickers,startyear,startmonth,startday,interval):\n",
    "    yf.pdr_override()\n",
    "    tickers=tickers\n",
    "    startyear=startyear\n",
    "    startmonth=startmonth\n",
    "    startday=startday\n",
    "    interval=interval\n",
    "    start=dt.datetime(startyear,startmonth,startday,)\n",
    "    now=dt.datetime.now()\n",
    "    df=pdr.get_data_yahoo(tickers,start,now, interval=interval,)\n",
    "    df.drop(['High', 'Low','Open','Close','Volume'], axis=1, inplace=True)\n",
    "    df.columns = df.columns.droplevel(0)\n",
    "    return df"
   ]
  },
  {
   "cell_type": "code",
   "execution_count": 3,
   "id": "1ad7df6e",
   "metadata": {},
   "outputs": [
    {
     "name": "stdout",
     "output_type": "stream",
     "text": [
      "[*********************100%***********************]  10 of 10 completed\n"
     ]
    }
   ],
   "source": [
    "#Creation of new Dataframe as per provided details\n",
    "df=Initialize(tickers=['GOOGL', 'AAPL','AMZN','MSFT','GOOG','F','MS','FB','C','DIS'],\n",
    "           startyear=2020,\n",
    "           startmonth=7,\n",
    "           startday=1,\n",
    "           interval=\"1d\")"
   ]
  },
  {
   "cell_type": "code",
   "execution_count": 4,
   "id": "6084b2b2",
   "metadata": {},
   "outputs": [
    {
     "name": "stdout",
     "output_type": "stream",
     "text": [
      "                AAPL      AMZN         C       DIS         F        FB  \\\n",
      "Date                                                                     \n",
      "2020-07-01 -0.001892  0.043453 -0.014677  0.013452 -0.016447  0.046153   \n",
      "2020-07-02  0.000000  0.004030  0.003972 -0.007344  0.011706 -0.017386   \n",
      "2020-07-06  0.026750  0.057690  0.028091  0.020057  0.023140  0.029389   \n",
      "2020-07-07 -0.003103 -0.018619 -0.031749 -0.006991 -0.011309  0.002414   \n",
      "2020-07-08  0.023290  0.026996  0.011129  0.026666 -0.004902  0.011293   \n",
      "\n",
      "                GOOG     GOOGL        MS      MSFT  \n",
      "Date                                                \n",
      "2020-07-01  0.017282  0.016889 -0.014286  0.005847  \n",
      "2020-07-02  0.018539  0.019369  0.003781  0.007621  \n",
      "2020-07-06  0.021165  0.020219  0.021553  0.021526  \n",
      "2020-07-07 -0.007033 -0.006488 -0.027243 -0.011628  \n",
      "2020-07-08  0.007285  0.009182  0.029901  0.021993  \n"
     ]
    }
   ],
   "source": [
    "#Creation of new Dataframe for returns of securities\n",
    "df2=df.pct_change()\n",
    "df2.dropna(inplace=True)\n",
    "print(df2.head())"
   ]
  },
  {
   "cell_type": "code",
   "execution_count": 5,
   "id": "5cb1a110",
   "metadata": {},
   "outputs": [],
   "source": [
    "tickers=['GOOGL', 'AAPL','AMZN','MSFT','GOOG','F','MS','FB','C','DIS']\n",
    "weights = np.array([0.1 , 0.1 , 0.1 , 0.1 , 0.1 , 0.1 , 0.1 , 0.1 , 0.1 , 0.1])"
   ]
  },
  {
   "cell_type": "code",
   "execution_count": 6,
   "id": "13cb72b0",
   "metadata": {},
   "outputs": [],
   "source": [
    "#varcovar1 is the variance covariance matrix, it is created by correlation of the return of securities matrix\n",
    "varcovar1=df2.cov()\n",
    "mean_return = df2.mean()"
   ]
  },
  {
   "cell_type": "code",
   "execution_count": 7,
   "id": "956b3523",
   "metadata": {},
   "outputs": [],
   "source": [
    "#mean_return: Portfolio Mean Return\n",
    "#port_sigma: Portfolio Standard Deviation\n",
    "mean_return = mean_return @ weights\n",
    "port_sigma = np.sqrt(weights.T @ varcovar1 @ weights)"
   ]
  },
  {
   "cell_type": "code",
   "execution_count": 8,
   "id": "0fe85362",
   "metadata": {},
   "outputs": [],
   "source": [
    "#Portfolio Normal Distribution of Portfolio Mean Return against\n",
    "#Portfolio Sigma \n",
    "x = np.arange(-0.05, 0.055, 0.001)\n",
    "norm_dist = norm.pdf(x, mean_return, port_sigma)"
   ]
  },
  {
   "cell_type": "code",
   "execution_count": 9,
   "id": "24f1a669",
   "metadata": {},
   "outputs": [
    {
     "data": {
      "image/png": "[encoded data removed]",
      "text/plain": [
       "<Figure size 432x288 with 1 Axes>"
      ]
     },
     "metadata": {
      "needs_background": "light"
     },
     "output_type": "display_data"
    }
   ],
   "source": [
    "#Beautiful Chart of Normal Distribution\n",
    "plt.plot(x, norm_dist, color = 'r')\n",
    "plt.show()"
   ]
  },
  {
   "cell_type": "code",
   "execution_count": 10,
   "id": "b873de3d",
   "metadata": {},
   "outputs": [
    {
     "data": {
      "text/plain": [
       "-0.025586752673891842"
      ]
     },
     "execution_count": 10,
     "metadata": {},
     "output_type": "execute_result"
    }
   ],
   "source": [
    "#Calculation of VaR at Confidence Level 1%\n",
    "confidence_level = 0.01\n",
    "\n",
    "VaR = norm.ppf(confidence_level, mean_return, port_sigma)\n",
    "VaR"
   ]
  }
 ],
 "metadata": {
  "kernelspec": {
   "display_name": "Python 3",
   "language": "python",
   "name": "python3"
  },
  "language_info": {
   "codemirror_mode": {
    "name": "ipython",
    "version": 3
   },
   "file_extension": ".py",
   "mimetype": "text/x-python",
   "name": "python",
   "nbconvert_exporter": "python",
   "pygments_lexer": "ipython3",
   "version": "3.8.8"
  }
 },
 "nbformat": 4,
 "nbformat_minor": 5
}
