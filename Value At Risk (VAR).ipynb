{
 "cells": [
  {
   "cell_type": "code",
   "execution_count": 1,
   "id": "ec2401e8",
   "metadata": {},
   "outputs": [],
   "source": [
    "import pandas as pd\n",
    "import numpy as np\n",
    "import math\n",
    "import datetime as dt\n",
    "from pandas_datareader import data as pdr\n",
    "import yfinance as yf\n",
    "import numpy as np\n",
    "import matplotlib.pyplot as plt\n",
    "import math\n",
    "from scipy.stats import norm"
   ]
  },
  {
   "cell_type": "code",
   "execution_count": 2,
   "id": "e0e092fa",
   "metadata": {},
   "outputs": [],
   "source": [
    "#Defining Function for Historical Data \n",
    "def Initialize(tickers,startyear,startmonth,startday,interval):\n",
    "    yf.pdr_override()\n",
    "    tickers=tickers\n",
    "    startyear=startyear\n",
    "    startmonth=startmonth\n",
    "    startday=startday\n",
    "    interval=interval\n",
    "    start=dt.datetime(startyear,startmonth,startday,)\n",
    "    now=dt.datetime.now()\n",
    "    df=pdr.get_data_yahoo(tickers,start,now, interval=interval,)\n",
    "    df.drop(['High', 'Low','Open','Close','Volume'], axis=1, inplace=True)\n",
    "    df.columns = df.columns.droplevel(0)\n",
    "    return df"
   ]
  },
  {
   "cell_type": "code",
   "execution_count": 3,
   "id": "a364de3b",
   "metadata": {},
   "outputs": [
    {
     "name": "stdout",
     "output_type": "stream",
     "text": [
      "[*********************100%***********************]  10 of 10 completed\n"
     ]
    }
   ],
   "source": [
    "#Creation of new Dataframe as per provided details\n",
    "df=Initialize(tickers=['GOOGL', 'AAPL','AMZN','MSFT','GOOG','F','MS','FB','C','DIS'],\n",
    "           startyear=2020,\n",
    "           startmonth=7,\n",
    "           startday=1,\n",
    "           interval=\"1d\")"
   ]
  },
  {
   "cell_type": "code",
   "execution_count": 4,
   "id": "9e78f96c",
   "metadata": {},
   "outputs": [
    {
     "name": "stdout",
     "output_type": "stream",
     "text": [
      "                AAPL      AMZN         C       DIS         F        FB  \\\n",
      "Date                                                                     \n",
      "2020-07-01 -0.001892  0.043453 -0.014677  0.013452 -0.016447  0.046153   \n",
      "2020-07-02  0.000000  0.004030  0.003972 -0.007344  0.011706 -0.017386   \n",
      "2020-07-06  0.026750  0.057690  0.028091  0.020057  0.023140  0.029389   \n",
      "2020-07-07 -0.003103 -0.018619 -0.031749 -0.006991 -0.011309  0.002414   \n",
      "2020-07-08  0.023290  0.026996  0.011129  0.026666 -0.004902  0.011293   \n",
      "\n",
      "                GOOG     GOOGL        MS      MSFT  \n",
      "Date                                                \n",
      "2020-07-01  0.017282  0.016889 -0.014286  0.005847  \n",
      "2020-07-02  0.018539  0.019369  0.003781  0.007621  \n",
      "2020-07-06  0.021165  0.020219  0.021553  0.021526  \n",
      "2020-07-07 -0.007033 -0.006488 -0.027243 -0.011628  \n",
      "2020-07-08  0.007285  0.009182  0.029901  0.021993  \n"
     ]
    }
   ],
   "source": [
    "#Creation of new Dataframe for returns of securities\n",
    "df2=df.pct_change()\n",
    "df2.dropna(inplace=True)\n",
    "print(df2.head())"
   ]
  },
  {
   "cell_type": "code",
   "execution_count": 5,
   "id": "12be0e70",
   "metadata": {},
   "outputs": [],
   "source": [
    "tickers=['GOOGL', 'AAPL','AMZN','MSFT','GOOG','F','MS','FB','C','DIS']\n",
    "weights = np.array([0.1 , 0.1 , 0.1 , 0.1 , 0.1 , 0.1 , 0.1 , 0.1 , 0.1 , 0.1])"
   ]
  },
  {
   "cell_type": "code",
   "execution_count": 6,
   "id": "751130c5",
   "metadata": {},
   "outputs": [],
   "source": [
    "#varcovar1 is the variance covariance matrix, it is created by correlation of the return of securities matrix\n",
    "varcovar1=df2.cov()\n",
    "mean_return = df2.mean()"
   ]
  },
  {
   "cell_type": "code",
   "execution_count": 7,
   "id": "019ed91e",
   "metadata": {},
   "outputs": [],
   "source": [
    "#mean_return: Portfolio Mean Return\n",
    "#port_sigma: Portfolio Standard Deviation\n",
    "mean_return = mean_return @ weights\n",
    "port_sigma = np.sqrt(weights.T @ varcovar1 @ weights)"
   ]
  },
  {
   "cell_type": "code",
   "execution_count": 8,
   "id": "a7b9e205",
   "metadata": {},
   "outputs": [
    {
     "data": {
      "text/plain": [
       "1001906.1613022843"
      ]
     },
     "execution_count": 8,
     "metadata": {},
     "output_type": "execute_result"
    }
   ],
   "source": [
    "#Assuming Initial Investment to be 1 Mil then\n",
    "#Mean Investment Return will be equal to\n",
    "#initial investment+(Return*Initial Investment)\n",
    "initial_investment=1000000\n",
    "mean_investment=(1+ mean_return)*initial_investment\n",
    "mean_investment"
   ]
  },
  {
   "cell_type": "code",
   "execution_count": 9,
   "id": "21dfd4f9",
   "metadata": {},
   "outputs": [
    {
     "data": {
      "text/plain": [
       "11818.057945229526"
      ]
     },
     "execution_count": 9,
     "metadata": {},
     "output_type": "execute_result"
    }
   ],
   "source": [
    "#Standard Deviation on Investment will be equal to\n",
    "#Initial Investment*Port_sigma\n",
    "sigma_investment=initial_investment* port_sigma\n",
    "sigma_investment"
   ]
  },
  {
   "cell_type": "code",
   "execution_count": 10,
   "id": "5cb8b9f9",
   "metadata": {},
   "outputs": [],
   "source": [
    "#Assuming confidence interval of interest 99%\n",
    "Conf_level= 0.01"
   ]
  },
  {
   "cell_type": "code",
   "execution_count": 11,
   "id": "4298c66a",
   "metadata": {},
   "outputs": [
    {
     "data": {
      "text/plain": [
       "974413.2473261082"
      ]
     },
     "execution_count": 11,
     "metadata": {},
     "output_type": "execute_result"
    }
   ],
   "source": [
    "#cutoff is the quantile of the distribution\n",
    "Cutoff =norm.ppf(Conf_level, mean_investment, sigma_investment)\n",
    "Cutoff"
   ]
  },
  {
   "cell_type": "code",
   "execution_count": 12,
   "id": "ed63e7df",
   "metadata": {},
   "outputs": [
    {
     "data": {
      "text/plain": [
       "25586.75267389184"
      ]
     },
     "execution_count": 12,
     "metadata": {},
     "output_type": "execute_result"
    }
   ],
   "source": [
    "#Calculation of VaR at Confidence Level 1%\n",
    "VaR=initial_investment- Cutoff\n",
    "VaR"
   ]
  },
  {
   "cell_type": "code",
   "execution_count": 13,
   "id": "dd78334c",
   "metadata": {},
   "outputs": [
    {
     "name": "stdout",
     "output_type": "stream",
     "text": [
      "1 day VaR: 25586.75267389184\n",
      "2 day VaR: 36185.132648503895\n",
      "3 day VaR: 44317.555631879484\n",
      "4 day VaR: 51173.50534778368\n",
      "5 day VaR: 57213.718302296664\n",
      "6 day VaR: 62674.48822582811\n",
      "7 day VaR: 67696.18443283475\n",
      "8 day VaR: 72370.26529700779\n",
      "9 day VaR: 76760.25802167552\n",
      "10 day VaR: 80912.41637690172\n"
     ]
    }
   ],
   "source": [
    "#VaR evaluation over 10 day period\n",
    "#VaR(n)=VaR*sqrt(n) where n no. of days\n",
    "n = 10\n",
    "for x in range(1, n+1):\n",
    "     print(str(x) + \" day VaR: \" + str(VaR*np.sqrt(x)))"
   ]
  }
 ],
 "metadata": {
  "kernelspec": {
   "display_name": "Python 3",
   "language": "python",
   "name": "python3"
  },
  "language_info": {
   "codemirror_mode": {
    "name": "ipython",
    "version": 3
   },
   "file_extension": ".py",
   "mimetype": "text/x-python",
   "name": "python",
   "nbconvert_exporter": "python",
   "pygments_lexer": "ipython3",
   "version": "3.8.8"
  }
 },
 "nbformat": 4,
 "nbformat_minor": 5
}
