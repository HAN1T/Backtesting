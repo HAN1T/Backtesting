{
 "cells": [
  {
   "cell_type": "code",
   "execution_count": 1,
   "id": "4ca8709e",
   "metadata": {},
   "outputs": [],
   "source": [
    "from scipy import stats\n",
    "import pandas as pd\n",
    "import numpy as np\n",
    "import math as m\n",
    "import datetime as dt\n",
    "from pandas_datareader import data as pdr\n",
    "import yfinance as yf\n",
    "import numpy as np\n",
    "from scipy.stats import linregress\n",
    "import warnings\n",
    "warnings.filterwarnings(\"ignore\")"
   ]
  },
  {
   "cell_type": "code",
   "execution_count": 2,
   "id": "be07718e",
   "metadata": {},
   "outputs": [],
   "source": [
    "#Defining Function for Historical Data \n",
    "def Initialize(tickers,startyear,startmonth,startday,interval):\n",
    "    yf.pdr_override()\n",
    "    tickers=tickers\n",
    "    startyear=startyear\n",
    "    startmonth=startmonth\n",
    "    startday=startday\n",
    "    interval=interval\n",
    "    start=dt.datetime(startyear,startmonth,startday,)\n",
    "    now=dt.datetime.now()\n",
    "    df=pdr.get_data_yahoo(tickers,start,now, interval=interval,)\n",
    "    df.drop(['High', 'Low','Open','Close','Volume'], axis=1, inplace=True)\n",
    "    df.columns = df.columns.droplevel(0)\n",
    "    return df"
   ]
  },
  {
   "cell_type": "code",
   "execution_count": 3,
   "id": "489e1290",
   "metadata": {},
   "outputs": [
    {
     "name": "stdout",
     "output_type": "stream",
     "text": [
      "[*********************100%***********************]  505 of 505 completed\n",
      "\n",
      "4 Failed downloads:\n",
      "- ALXN: No data found, symbol may be delisted\n",
      "- BRK.B: No data found, symbol may be delisted\n",
      "- LB: No data found, symbol may be delisted\n",
      "- BF.B: None\n"
     ]
    }
   ],
   "source": [
    "#Creation of new Dataframe as per provided details\n",
    "df=Initialize(tickers=['MMM', 'ABT', 'ABBV', 'ABMD', 'ACN', 'ATVI', 'ADBE', 'AMD', 'AAP', 'AES', 'AFL', 'A', 'APD', 'AKAM', 'ALK', 'ALB', 'ARE', 'ALXN', 'ALGN', 'ALLE', 'LNT', 'ALL', 'GOOGL', 'GOOG', 'MO', 'AMZN', 'AMCR', 'AEE', 'AAL', 'AEP', 'AXP', 'AIG', 'AMT', 'AWK', 'AMP', 'ABC', 'AME', 'AMGN', 'APH', 'ADI', 'ANSS', 'ANTM', 'AON', 'AOS', 'APA', 'AAPL', 'AMAT', 'APTV', 'ADM', 'ANET', 'AJG', 'AIZ', 'T', 'ATO', 'ADSK', 'ADP', 'AZO', 'AVB', 'AVY', 'BKR', 'BLL', 'BAC', 'BK', 'BAX', 'BDX', 'BRK.B', 'BBY', 'BIO', 'BIIB', 'BLK', 'BA', 'BKNG', 'BWA', 'BXP', 'BSX', 'BMY', 'AVGO', 'BR', 'BF.B', 'CHRW', 'COG', 'CDNS', 'CZR', 'CPB', 'COF', 'CAH', 'KMX', 'CCL', 'CARR', 'CTLT', 'CAT', 'CBOE', 'CBRE', 'CDW', 'CE', 'CNC', 'CNP', 'CERN', 'CF', 'CRL', 'SCHW', 'CHTR', 'CVX', 'CMG', 'CB', 'CHD', 'CI', 'CINF', 'CTAS', 'CSCO', 'C', 'CFG', 'CTXS', 'CLX', 'CME', 'CMS', 'KO', 'CTSH', 'CL', 'CMCSA', 'CMA', 'CAG', 'COP', 'ED', 'STZ', 'COO', 'CPRT', 'GLW', 'CTVA', 'COST', 'CCI', 'CSX', 'CMI', 'CVS', 'DHI', 'DHR', 'DRI', 'DVA', 'DE', 'DAL', 'XRAY', 'DVN', 'DXCM', 'FANG', 'DLR', 'DFS', 'DISCA', 'DISCK', 'DISH', 'DG', 'DLTR', 'D', 'DPZ', 'DOV', 'DOW', 'DTE', 'DUK', 'DRE', 'DD', 'DXC', 'EMN', 'ETN', 'EBAY', 'ECL', 'EIX', 'EW', 'EA', 'EMR', 'ENPH', 'ETR', 'EOG', 'EFX', 'EQIX', 'EQR', 'ESS', 'EL', 'ETSY', 'EVRG', 'ES', 'RE', 'EXC', 'EXPE', 'EXPD', 'EXR', 'XOM', 'FFIV', 'FB', 'FAST', 'FRT', 'FDX', 'FIS', 'FITB', 'FE', 'FRC', 'FISV', 'FLT', 'FMC', 'F', 'FTNT', 'FTV', 'FBHS', 'FOXA', 'FOX', 'BEN', 'FCX', 'GPS', 'GRMN', 'IT', 'GNRC', 'GD', 'GE', 'GIS', 'GM', 'GPC', 'GILD', 'GL', 'GPN', 'GS', 'GWW', 'HAL', 'HBI', 'HIG', 'HAS', 'HCA', 'PEAK', 'HSIC', 'HSY', 'HES', 'HPE', 'HLT', 'HOLX', 'HD', 'HON', 'HRL', 'HST', 'HWM', 'HPQ', 'HUM', 'HBAN', 'HII', 'IEX', 'IDXX', 'INFO', 'ITW', 'ILMN', 'INCY', 'IR', 'INTC', 'ICE', 'IBM', 'IP', 'IPG', 'IFF', 'INTU', 'ISRG', 'IVZ', 'IPGP', 'IQV', 'IRM', 'JKHY', 'J', 'JBHT', 'SJM', 'JNJ', 'JCI', 'JPM', 'JNPR', 'KSU', 'K', 'KEY', 'KEYS', 'KMB', 'KIM', 'KMI', 'KLAC', 'KHC', 'KR', 'LB', 'LHX', 'LH', 'LRCX', 'LW', 'LVS', 'LEG', 'LDOS', 'LEN', 'LLY', 'LNC', 'LIN', 'LYV', 'LKQ', 'LMT', 'L', 'LOW', 'LUMN', 'LYB', 'MTB', 'MRO', 'MPC', 'MKTX', 'MAR', 'MMC', 'MLM', 'MAS', 'MA', 'MKC', 'MXIM', 'MCD', 'MCK', 'MDT', 'MRK', 'MET', 'MTD', 'MGM', 'MCHP', 'MU', 'MSFT', 'MAA', 'MHK', 'TAP', 'MDLZ', 'MPWR', 'MNST', 'MCO', 'MS', 'MOS', 'MSI', 'MSCI', 'NDAQ', 'NTAP', 'NFLX', 'NWL', 'NEM', 'NWSA', 'NWS', 'NEE', 'NLSN', 'NKE', 'NI', 'NSC', 'NTRS', 'NOC', 'NLOK', 'NCLH', 'NOV', 'NRG', 'NUE', 'NVDA', 'NVR', 'NXPI', 'ORLY', 'OXY', 'ODFL', 'OMC', 'OKE', 'ORCL', 'OGN', 'OTIS', 'PCAR', 'PKG', 'PH', 'PAYX', 'PAYC', 'PYPL', 'PENN', 'PNR', 'PBCT', 'PEP', 'PKI', 'PRGO', 'PFE', 'PM', 'PSX', 'PNW', 'PXD', 'PNC', 'POOL', 'PPG', 'PPL', 'PFG', 'PG', 'PGR', 'PLD', 'PRU', 'PTC', 'PEG', 'PSA', 'PHM', 'PVH', 'QRVO', 'PWR', 'QCOM', 'DGX', 'RL', 'RJF', 'RTX', 'O', 'REG', 'REGN', 'RF', 'RSG', 'RMD', 'RHI', 'ROK', 'ROL', 'ROP', 'ROST', 'RCL', 'SPGI', 'CRM', 'SBAC', 'SLB', 'STX', 'SEE', 'SRE', 'NOW', 'SHW', 'SPG', 'SWKS', 'SNA', 'SO', 'LUV', 'SWK', 'SBUX', 'STT', 'STE', 'SYK', 'SIVB', 'SYF', 'SNPS', 'SYY', 'TMUS', 'TROW', 'TTWO', 'TPR', 'TGT', 'TEL', 'TDY', 'TFX', 'TER', 'TSLA', 'TXN', 'TXT', 'TMO', 'TJX', 'TSCO', 'TT', 'TDG', 'TRV', 'TRMB', 'TFC', 'TWTR', 'TYL', 'TSN', 'UDR', 'ULTA', 'USB', 'UAA', 'UA', 'UNP', 'UAL', 'UNH', 'UPS', 'URI', 'UHS', 'UNM', 'VLO', 'VTR', 'VRSN', 'VRSK', 'VZ', 'VRTX', 'VFC', 'VIAC', 'VTRS', 'V', 'VNO', 'VMC', 'WRB', 'WAB', 'WMT', 'WBA', 'DIS', 'WM', 'WAT', 'WEC', 'WFC', 'WELL', 'WST', 'WDC', 'WU', 'WRK', 'WY', 'WHR', 'WMB', 'WLTW', 'WYNN', 'XEL', 'XLNX', 'XYL', 'YUM', 'ZBRA', 'ZBH', 'ZION', 'ZTS'],\n",
    "           startyear=2020,\n",
    "           startmonth=7,\n",
    "           startday=1,\n",
    "           interval=\"1d\")"
   ]
  },
  {
   "cell_type": "code",
   "execution_count": 4,
   "id": "64e915e5",
   "metadata": {},
   "outputs": [],
   "source": [
    "#Momentum over 90 days\n",
    "momen_calc_days = len(df.index) - 90\n",
    "vola_window=20\n",
    "def Calculate_Momentum(close_price):\n",
    "    log_price = np.log(close_price)[momen_calc_days:]\n",
    "    x = np.arange(len(log_price))\n",
    "    slope, _, rvalue, _, _ = linregress(x, log_price)\n",
    "    Annual_Slope = m.exp(slope)**250-1 #Annualization of slope\n",
    "    Volatility = rvalue**2\n",
    "    Momentum_Score = Annual_Slope*Volatility\n",
    "    return Momentum_Score\n",
    "\n",
    "#Inverse Volatility over 20 days\n",
    "def Calculate_Inverse_Volatility(close_price):\n",
    "    volatility=close_price.pct_change().rolling(vola_window).std()[-1]\n",
    "    inv_volatility=1/volatility\n",
    "    return inv_volatility"
   ]
  },
  {
   "cell_type": "code",
   "execution_count": 5,
   "id": "81d47d43",
   "metadata": {},
   "outputs": [],
   "source": [
    "#Define new df with required columns\n",
    "df_Output = pd.DataFrame(columns=['Stock','LastPrice','MomentumScore','InverseVolatility',])"
   ]
  },
  {
   "cell_type": "code",
   "execution_count": 6,
   "id": "5676783e",
   "metadata": {},
   "outputs": [
    {
     "name": "stdout",
     "output_type": "stream",
     "text": [
      "    Stock   LastPrice  MomentumScore  InverseVolatility\n",
      "0    PAYC  518.770020       2.291878          61.958148\n",
      "1    MPWR  481.040009       1.587247          53.254919\n",
      "2    DXCM  544.469971       1.418470          53.261912\n",
      "3     ALB  228.770004       1.387283          42.723390\n",
      "4      IT  311.279999       1.333353          57.168686\n",
      "..    ...         ...            ...                ...\n",
      "494   LVS   40.099998      -0.525646          39.610874\n",
      "495  WYNN   90.709999      -0.543175          42.677593\n",
      "496  NLSN   19.770000      -0.550684          78.395076\n",
      "497    LW   56.240002      -0.593598          46.305221\n",
      "498   GPS   22.139999      -0.621630          35.016154\n",
      "\n",
      "[500 rows x 4 columns]\n"
     ]
    }
   ],
   "source": [
    "#For list of tickers calculating Momentum Score and Inverse_Volatility\n",
    "#then sorting by Descending\n",
    "tickers = np.array(df.columns)\n",
    "for ticker in tickers:\n",
    "    close_price = df[ticker]\n",
    "    Last_Price=df[ticker][-1]\n",
    "    Momentum_Score = Calculate_Momentum(close_price)\n",
    "    Inverse_Volatility=Calculate_Inverse_Volatility(close_price)\n",
    "    df_Output = df_Output.append({'Stock': ticker,'LastPrice':Last_Price,'MomentumScore': Momentum_Score,'InverseVolatility' : Inverse_Volatility,}, ignore_index = True)\n",
    "    df_Output = df_Output.sort_values(by='MomentumScore',ascending = False)\n",
    "df_Output =df_Output.dropna()\n",
    "print(df_Output)"
   ]
  },
  {
   "cell_type": "code",
   "execution_count": 7,
   "id": "88e5af3b",
   "metadata": {},
   "outputs": [],
   "source": [
    "#Stock Pick or Stock Selection with Criteria MomentumScore>1\n",
    "#If more than Portfolio Size qualifies criteria then pick top 30 else \n",
    "#No. of stocks that qualifies\n",
    "Portfolio_Size=30\n",
    "Min_Momen_Score=1\n",
    "Momen_FilterCriteria = df_Output[df_Output.MomentumScore > Min_Momen_Score].copy()\n",
    "Stock_list=np.array(Momen_FilterCriteria)\n",
    "if len(Stock_list)>Portfolio_Size:\n",
    "    Stock_pick=Momen_FilterCriteria[0:Portfolio_Size]\n",
    "else:\n",
    "    Stock_pick=Momen_FilterCriteria"
   ]
  },
  {
   "cell_type": "code",
   "execution_count": 8,
   "id": "b4d6f376",
   "metadata": {},
   "outputs": [
    {
     "name": "stdout",
     "output_type": "stream",
     "text": [
      "  Stock   LastPrice  MomentumScore  InverseVolatility  PercentAllocation  \\\n",
      "0  PAYC  518.770020       2.291878          61.958148               13.0   \n",
      "1  MPWR  481.040009       1.587247          53.254919               11.0   \n",
      "2  DXCM  544.469971       1.418470          53.261912               11.0   \n",
      "3   ALB  228.770004       1.387283          42.723390                9.0   \n",
      "4    IT  311.279999       1.333353          57.168686               12.0   \n",
      "5   PWR  112.339996       1.279559          67.648197               14.0   \n",
      "6   AON  309.299988       1.072890          69.448966               15.0   \n",
      "7  FTNT  315.290009       1.052075          49.402072               10.0   \n",
      "\n",
      "   PositionAllocation  \n",
      "0               250.0  \n",
      "1               228.0  \n",
      "2               202.0  \n",
      "3               393.0  \n",
      "4               385.0  \n",
      "5              1246.0  \n",
      "6               484.0  \n",
      "7               317.0  \n"
     ]
    }
   ],
   "source": [
    "#Calculation of Percent of Initial Investment to be allocated and \n",
    "#no. of shares as per the percent of Initial Investment\n",
    "Initial_Investment=1000000\n",
    "Sum_InverseVolatility=Stock_pick.InverseVolatility.sum().round(decimals=0)\n",
    "Stock_pick['PercentAllocation']=((Stock_pick.InverseVolatility/Sum_InverseVolatility)*100).apply(np.floor)\n",
    "Stock_pick['PositionAllocation']=((Stock_pick.PercentAllocation*Initial_Investment)/(100*Stock_pick.LastPrice)).apply(np.floor)\n",
    "print(Stock_pick)"
   ]
  }
 ],
 "metadata": {
  "kernelspec": {
   "display_name": "Python 3",
   "language": "python",
   "name": "python3"
  },
  "language_info": {
   "codemirror_mode": {
    "name": "ipython",
    "version": 3
   },
   "file_extension": ".py",
   "mimetype": "text/x-python",
   "name": "python",
   "nbconvert_exporter": "python",
   "pygments_lexer": "ipython3",
   "version": "3.8.8"
  }
 },
 "nbformat": 4,
 "nbformat_minor": 5
}
