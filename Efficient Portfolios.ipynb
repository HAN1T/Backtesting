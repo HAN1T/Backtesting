{
 "cells": [
  {
   "cell_type": "code",
   "execution_count": 1,
   "id": "b46e1749",
   "metadata": {},
   "outputs": [],
   "source": [
    "import pandas as pd\n",
    "import numpy as np\n",
    "import math\n",
    "import datetime as dt\n",
    "from pandas_datareader import data as pdr\n",
    "import yfinance as yf\n",
    "import numpy as np\n",
    "import matplotlib.pyplot as plt\n",
    "import math"
   ]
  },
  {
   "cell_type": "code",
   "execution_count": 2,
   "id": "653479f0",
   "metadata": {},
   "outputs": [],
   "source": [
    "#Defining Function for Historical Data \n",
    "def Initialize(tickers,startyear,startmonth,startday,interval):\n",
    "    yf.pdr_override()\n",
    "    tickers=tickers\n",
    "    startyear=startyear\n",
    "    startmonth=startmonth\n",
    "    startday=startday\n",
    "    interval=interval\n",
    "    start=dt.datetime(startyear,startmonth,startday,)\n",
    "    now=dt.datetime.now()\n",
    "    df=pdr.get_data_yahoo(tickers,start,now, interval=interval,)\n",
    "    df.drop(['High', 'Low','Open','Close','Volume'], axis=1, inplace=True)\n",
    "    df.columns = df.columns.droplevel(0)\n",
    "    return df"
   ]
  },
  {
   "cell_type": "code",
   "execution_count": 3,
   "id": "b3b3c5d7",
   "metadata": {},
   "outputs": [
    {
     "name": "stdout",
     "output_type": "stream",
     "text": [
      "[*********************100%***********************]  6 of 6 completed\n"
     ]
    }
   ],
   "source": [
    "#Creation of new Dataframe as per provided details\n",
    "df=Initialize(tickers=['GOOGL', 'AAPL','MSFT','GOOG','F','MS'],\n",
    "           startyear=2020,\n",
    "           startmonth=7,\n",
    "           startday=1,\n",
    "           interval=\"1d\")"
   ]
  },
  {
   "cell_type": "code",
   "execution_count": 4,
   "id": "950f3f40",
   "metadata": {},
   "outputs": [
    {
     "name": "stdout",
     "output_type": "stream",
     "text": [
      "                AAPL         F      GOOG     GOOGL        MS      MSFT\n",
      "Date                                                                  \n",
      "2020-07-01 -0.001892 -0.016447  0.017282  0.016889 -0.014286  0.005847\n",
      "2020-07-02  0.000000  0.011706  0.018539  0.019369  0.003781  0.007621\n",
      "2020-07-06  0.026750  0.023140  0.021165  0.020219  0.021553  0.021526\n",
      "2020-07-07 -0.003103 -0.011309 -0.007033 -0.006488 -0.027243 -0.011628\n",
      "2020-07-08  0.023290 -0.004902  0.007285  0.009182  0.029901  0.021993\n"
     ]
    }
   ],
   "source": [
    "#Creation of new Dataframe for returns of securities\n",
    "df2=df.pct_change()\n",
    "df2.dropna(inplace=True)\n",
    "print(df2.head())"
   ]
  },
  {
   "cell_type": "code",
   "execution_count": 5,
   "id": "965be5c3",
   "metadata": {},
   "outputs": [],
   "source": [
    "#Er Portfolio Expected Return\n",
    "#std Portfolio Standard Deviation\n",
    "#Var Portfolio Variance\n",
    "Er=np.array(df2.describe().loc['mean'])\n",
    "std=np.array(df2.describe().loc['std'])\n",
    "var=std**2"
   ]
  },
  {
   "cell_type": "code",
   "execution_count": 6,
   "id": "150d102d",
   "metadata": {},
   "outputs": [],
   "source": [
    "#varcovar1 is the variance covariance matrix, it is created by correlation of the return of securities matrix\n",
    "varcovar1=df2.cov()"
   ]
  },
  {
   "cell_type": "code",
   "execution_count": 7,
   "id": "1d57ce02",
   "metadata": {},
   "outputs": [],
   "source": [
    "#Defining formulas of Portfolios weight, Variance and Standard Deviation\n",
    "#Weight of Efficient Portfolio(W)=(Inverse of varcovar1*((Portfolio Expected Return)-(Constant(C)))/(Summation of numberator)\n",
    "\n",
    "#For Efficient Portfolio A Constant(c1)=0\n",
    "c1=0\n",
    "weightA=np.linalg.inv(varcovar1) @ (Er-c1) / np.sum(np.linalg.inv(varcovar1) @ (Er-c1))\n",
    "ErA=weightA@Er\n",
    "VarA=weightA@varcovar1@weightA.T\n",
    "stdA=np.sqrt(VarA)\n",
    "\n",
    "#For Efficient Portfolio B Constant(c2)=0.04\n",
    "c2=0.04\n",
    "weightB=np.linalg.inv(varcovar1) @ (Er-c2) / np.sum(np.linalg.inv(varcovar1) @ (Er-c2))\n",
    "ErB=weightB@Er\n",
    "VarB=weightB@varcovar1@weightB.T\n",
    "stdB=np.sqrt(VarB)"
   ]
  },
  {
   "cell_type": "code",
   "execution_count": 8,
   "id": "49ba19ee",
   "metadata": {},
   "outputs": [],
   "source": [
    "#Covariance of Portfolio A & B (covAB)\n",
    "#covAB=(weightA*varcovar1*(Transpose of weightB))\n",
    "covAB=weightA@varcovar1@weightB.T"
   ]
  },
  {
   "cell_type": "code",
   "execution_count": 9,
   "id": "2aeaa52f",
   "metadata": {},
   "outputs": [],
   "source": [
    "#Creating array of weights for Portfolio A and B\n",
    "wa=np.linspace(-1.5,4.5,num=100)\n",
    "wb=1-wa"
   ]
  },
  {
   "cell_type": "code",
   "execution_count": 10,
   "id": "8a4f8cb4",
   "metadata": {},
   "outputs": [],
   "source": [
    "#Creating new Portfolio C and calculating Expected return of Portfolio C\n",
    "#Expected Return of Portfolio C= wa*ErA + wb*ErB\n",
    "ErC=wa*ErA + wb*ErB"
   ]
  },
  {
   "cell_type": "code",
   "execution_count": 11,
   "id": "2adbee84",
   "metadata": {},
   "outputs": [],
   "source": [
    "#Calculating Standard Deviation of C\n",
    "#standard Deviation of Portfolio C=np.sqrt((wa*stdA)**2 + (wb*stdB)**2 + 2*wa*wb*covAB)\n",
    "stdC=np.sqrt((wa*stdA)**2 + (wb*stdB)**2 + 2*wa*wb*covAB)"
   ]
  },
  {
   "cell_type": "code",
   "execution_count": 12,
   "id": "44379930",
   "metadata": {},
   "outputs": [
    {
     "data": {
      "image/png": "[encoded data removed]",
      "text/plain": [
       "<Figure size 432x288 with 1 Axes>"
      ]
     },
     "metadata": {
      "needs_background": "light"
     },
     "output_type": "display_data"
    }
   ],
   "source": [
    "plt.xlabel(\"Portfolio Standard Deviation\")\n",
    "plt.ylabel(\"Portfolio Mean Return\")\n",
    "plt.title(\"Global Minimum Variance Portfolio\")\n",
    "plt.plot(stdC,ErC)\n",
    "plt.show()"
   ]
  }
 ],
 "metadata": {
  "kernelspec": {
   "display_name": "Python 3",
   "language": "python",
   "name": "python3"
  },
  "language_info": {
   "codemirror_mode": {
    "name": "ipython",
    "version": 3
   },
   "file_extension": ".py",
   "mimetype": "text/x-python",
   "name": "python",
   "nbconvert_exporter": "python",
   "pygments_lexer": "ipython3",
   "version": "3.8.8"
  }
 },
 "nbformat": 4,
 "nbformat_minor": 5
}
